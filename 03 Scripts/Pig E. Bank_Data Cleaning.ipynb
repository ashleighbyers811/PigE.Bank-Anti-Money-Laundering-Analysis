{
 "cells": [
  {
   "cell_type": "markdown",
   "id": "b3599762-992e-43b0-8aa4-b6a7d023f022",
   "metadata": {},
   "source": [
    "# Pig E. Bank_Data Cleaning"
   ]
  },
  {
   "cell_type": "markdown",
   "id": "e0c70c8b-d50a-4259-8f9e-cc3b458368d9",
   "metadata": {},
   "source": [
    "# Table of Contents\n",
    "\n",
    "##### 1. Import libraries and data\n",
    "##### 2. Check data shape, structure, and basic descriptive statistics\n",
    "##### 3. Consistency Checks\n",
    "    3.1 Missing values\n",
    "    3.2 Mixed-type data\n",
    "    3.3 Update data types\n",
    "    3.4 Duplicates\n",
    "##### 4. Data Wrangling\n",
    "    4.1 Drop columns if necessary\n",
    "##### 5. Check frequencies in pertinent columns\n",
    "    5.1 Country\n",
    "    5.2 Gender\n",
    "##### 6. Check shape, structure and basic descriptive statistics after updates\n",
    "##### 7. Export data"
   ]
  },
  {
   "cell_type": "markdown",
   "id": "2c240ade-60ef-4326-ba33-981558edc934",
   "metadata": {},
   "source": [
    "## 1. Import libraries and data"
   ]
  },
  {
   "cell_type": "code",
   "execution_count": 4,
   "id": "5f6ad5cc-1fc1-4da6-8db7-a288505d5f4a",
   "metadata": {},
   "outputs": [],
   "source": [
    "# Import libraries\n",
    "\n",
    "import pandas as pd\n",
    "import numpy as np\n",
    "import os"
   ]
  },
  {
   "cell_type": "code",
   "execution_count": 5,
   "id": "a401c843-8df8-4c7f-a7e0-b83bf2be9e9a",
   "metadata": {},
   "outputs": [],
   "source": [
    "# Set path\n",
    "path = r'C:\\Users\\ashle\\Documents\\08-2024 Pig E. Bank Analysis'\n",
    "\n",
    "# Import data\n",
    "bank = pd.read_csv(os.path.join(path, '02 Data', 'Original Data', 'PigEBank-Client-Data_raw.csv'), index_col = False)"
   ]
  },
  {
   "cell_type": "markdown",
   "id": "662ac074-ce2d-4731-a0c0-095f58f3d766",
   "metadata": {},
   "source": [
    "## 2. Check data shape, structure, and basic descriptive statistics"
   ]
  },
  {
   "cell_type": "code",
   "execution_count": 7,
   "id": "78f00b07-ca49-40e0-9fff-45743a3a1618",
   "metadata": {},
   "outputs": [
    {
     "data": {
      "text/html": [
       "<div>\n",
       "<style scoped>\n",
       "    .dataframe tbody tr th:only-of-type {\n",
       "        vertical-align: middle;\n",
       "    }\n",
       "\n",
       "    .dataframe tbody tr th {\n",
       "        vertical-align: top;\n",
       "    }\n",
       "\n",
       "    .dataframe thead th {\n",
       "        text-align: right;\n",
       "    }\n",
       "</style>\n",
       "<table border=\"1\" class=\"dataframe\">\n",
       "  <thead>\n",
       "    <tr style=\"text-align: right;\">\n",
       "      <th></th>\n",
       "      <th>Row_Number</th>\n",
       "      <th>Customer_ID</th>\n",
       "      <th>Last_Name</th>\n",
       "      <th>Credit Score</th>\n",
       "      <th>Country</th>\n",
       "      <th>Gender</th>\n",
       "      <th>Age</th>\n",
       "      <th>Tenure</th>\n",
       "      <th>Balance</th>\n",
       "      <th>NumOfProducts</th>\n",
       "      <th>HasCrCard?</th>\n",
       "      <th>IsActiveMember</th>\n",
       "      <th>Estimated Salary</th>\n",
       "      <th>ExitedFromBank?</th>\n",
       "    </tr>\n",
       "  </thead>\n",
       "  <tbody>\n",
       "    <tr>\n",
       "      <th>0</th>\n",
       "      <td>1</td>\n",
       "      <td>15634602</td>\n",
       "      <td>Hargrave</td>\n",
       "      <td>619.0</td>\n",
       "      <td>France</td>\n",
       "      <td>Female</td>\n",
       "      <td>42.0</td>\n",
       "      <td>2</td>\n",
       "      <td>$0.00</td>\n",
       "      <td>1</td>\n",
       "      <td>1</td>\n",
       "      <td>1</td>\n",
       "      <td>$101,348.88</td>\n",
       "      <td>1</td>\n",
       "    </tr>\n",
       "    <tr>\n",
       "      <th>1</th>\n",
       "      <td>2</td>\n",
       "      <td>15647311</td>\n",
       "      <td>Hill</td>\n",
       "      <td>608.0</td>\n",
       "      <td>Spain</td>\n",
       "      <td>Female</td>\n",
       "      <td>41.0</td>\n",
       "      <td>1</td>\n",
       "      <td>$83,807.86</td>\n",
       "      <td>1</td>\n",
       "      <td>0</td>\n",
       "      <td>1</td>\n",
       "      <td>$112,542.58</td>\n",
       "      <td>0</td>\n",
       "    </tr>\n",
       "    <tr>\n",
       "      <th>2</th>\n",
       "      <td>3</td>\n",
       "      <td>15619304</td>\n",
       "      <td>Onio</td>\n",
       "      <td>502.0</td>\n",
       "      <td>France</td>\n",
       "      <td>Female</td>\n",
       "      <td>42.0</td>\n",
       "      <td>8</td>\n",
       "      <td>$159,660.80</td>\n",
       "      <td>3</td>\n",
       "      <td>1</td>\n",
       "      <td>0</td>\n",
       "      <td>$113,931.57</td>\n",
       "      <td>1</td>\n",
       "    </tr>\n",
       "    <tr>\n",
       "      <th>3</th>\n",
       "      <td>4</td>\n",
       "      <td>15701354</td>\n",
       "      <td>Boni</td>\n",
       "      <td>699.0</td>\n",
       "      <td>France</td>\n",
       "      <td>Female</td>\n",
       "      <td>39.0</td>\n",
       "      <td>1</td>\n",
       "      <td>$0.00</td>\n",
       "      <td>2</td>\n",
       "      <td>0</td>\n",
       "      <td>0</td>\n",
       "      <td>$93,826.63</td>\n",
       "      <td>0</td>\n",
       "    </tr>\n",
       "    <tr>\n",
       "      <th>4</th>\n",
       "      <td>5</td>\n",
       "      <td>15737888</td>\n",
       "      <td>Mitchell</td>\n",
       "      <td>850.0</td>\n",
       "      <td>Spain</td>\n",
       "      <td>Female</td>\n",
       "      <td>43.0</td>\n",
       "      <td>2</td>\n",
       "      <td>$125,510.82</td>\n",
       "      <td>1</td>\n",
       "      <td>1</td>\n",
       "      <td>1</td>\n",
       "      <td>$79,084.10</td>\n",
       "      <td>0</td>\n",
       "    </tr>\n",
       "  </tbody>\n",
       "</table>\n",
       "</div>"
      ],
      "text/plain": [
       "   Row_Number  Customer_ID Last_Name  Credit Score Country  Gender   Age  \\\n",
       "0           1     15634602  Hargrave         619.0  France  Female  42.0   \n",
       "1           2     15647311      Hill         608.0   Spain  Female  41.0   \n",
       "2           3     15619304      Onio         502.0  France  Female  42.0   \n",
       "3           4     15701354      Boni         699.0  France  Female  39.0   \n",
       "4           5     15737888  Mitchell         850.0   Spain  Female  43.0   \n",
       "\n",
       "   Tenure       Balance  NumOfProducts  HasCrCard?  IsActiveMember  \\\n",
       "0       2        $0.00               1           1               1   \n",
       "1       1   $83,807.86               1           0               1   \n",
       "2       8  $159,660.80               3           1               0   \n",
       "3       1        $0.00               2           0               0   \n",
       "4       2  $125,510.82               1           1               1   \n",
       "\n",
       "  Estimated Salary  ExitedFromBank?  \n",
       "0     $101,348.88                 1  \n",
       "1     $112,542.58                 0  \n",
       "2     $113,931.57                 1  \n",
       "3      $93,826.63                 0  \n",
       "4      $79,084.10                 0  "
      ]
     },
     "execution_count": 7,
     "metadata": {},
     "output_type": "execute_result"
    }
   ],
   "source": [
    "bank.head()"
   ]
  },
  {
   "cell_type": "code",
   "execution_count": 8,
   "id": "92125471-bac9-4b59-b840-215b86a1de6b",
   "metadata": {},
   "outputs": [
    {
     "data": {
      "text/plain": [
       "(991, 14)"
      ]
     },
     "execution_count": 8,
     "metadata": {},
     "output_type": "execute_result"
    }
   ],
   "source": [
    "bank.shape"
   ]
  },
  {
   "cell_type": "code",
   "execution_count": 9,
   "id": "b4697be8-5998-4eaf-8de5-dd95ce7127ef",
   "metadata": {},
   "outputs": [
    {
     "data": {
      "text/html": [
       "<div>\n",
       "<style scoped>\n",
       "    .dataframe tbody tr th:only-of-type {\n",
       "        vertical-align: middle;\n",
       "    }\n",
       "\n",
       "    .dataframe tbody tr th {\n",
       "        vertical-align: top;\n",
       "    }\n",
       "\n",
       "    .dataframe thead th {\n",
       "        text-align: right;\n",
       "    }\n",
       "</style>\n",
       "<table border=\"1\" class=\"dataframe\">\n",
       "  <thead>\n",
       "    <tr style=\"text-align: right;\">\n",
       "      <th></th>\n",
       "      <th>Row_Number</th>\n",
       "      <th>Customer_ID</th>\n",
       "      <th>Credit Score</th>\n",
       "      <th>Age</th>\n",
       "      <th>Tenure</th>\n",
       "      <th>NumOfProducts</th>\n",
       "      <th>HasCrCard?</th>\n",
       "      <th>IsActiveMember</th>\n",
       "      <th>ExitedFromBank?</th>\n",
       "    </tr>\n",
       "  </thead>\n",
       "  <tbody>\n",
       "    <tr>\n",
       "      <th>count</th>\n",
       "      <td>991.00000</td>\n",
       "      <td>9.910000e+02</td>\n",
       "      <td>988.000000</td>\n",
       "      <td>990.000000</td>\n",
       "      <td>991.000000</td>\n",
       "      <td>991.000000</td>\n",
       "      <td>991.000000</td>\n",
       "      <td>991.000000</td>\n",
       "      <td>991.000000</td>\n",
       "    </tr>\n",
       "    <tr>\n",
       "      <th>mean</th>\n",
       "      <td>496.00000</td>\n",
       "      <td>1.569232e+07</td>\n",
       "      <td>648.512146</td>\n",
       "      <td>38.684848</td>\n",
       "      <td>5.066599</td>\n",
       "      <td>1.522704</td>\n",
       "      <td>0.706357</td>\n",
       "      <td>0.507568</td>\n",
       "      <td>0.205853</td>\n",
       "    </tr>\n",
       "    <tr>\n",
       "      <th>std</th>\n",
       "      <td>286.22136</td>\n",
       "      <td>7.223333e+04</td>\n",
       "      <td>98.202853</td>\n",
       "      <td>10.958220</td>\n",
       "      <td>2.928371</td>\n",
       "      <td>0.573170</td>\n",
       "      <td>0.455660</td>\n",
       "      <td>0.500195</td>\n",
       "      <td>0.404527</td>\n",
       "    </tr>\n",
       "    <tr>\n",
       "      <th>min</th>\n",
       "      <td>1.00000</td>\n",
       "      <td>1.556609e+07</td>\n",
       "      <td>376.000000</td>\n",
       "      <td>2.000000</td>\n",
       "      <td>0.000000</td>\n",
       "      <td>1.000000</td>\n",
       "      <td>0.000000</td>\n",
       "      <td>0.000000</td>\n",
       "      <td>0.000000</td>\n",
       "    </tr>\n",
       "    <tr>\n",
       "      <th>25%</th>\n",
       "      <td>248.50000</td>\n",
       "      <td>1.563019e+07</td>\n",
       "      <td>579.750000</td>\n",
       "      <td>32.000000</td>\n",
       "      <td>2.000000</td>\n",
       "      <td>1.000000</td>\n",
       "      <td>0.000000</td>\n",
       "      <td>0.000000</td>\n",
       "      <td>0.000000</td>\n",
       "    </tr>\n",
       "    <tr>\n",
       "      <th>50%</th>\n",
       "      <td>496.00000</td>\n",
       "      <td>1.569275e+07</td>\n",
       "      <td>653.500000</td>\n",
       "      <td>37.000000</td>\n",
       "      <td>5.000000</td>\n",
       "      <td>1.000000</td>\n",
       "      <td>1.000000</td>\n",
       "      <td>1.000000</td>\n",
       "      <td>0.000000</td>\n",
       "    </tr>\n",
       "    <tr>\n",
       "      <th>75%</th>\n",
       "      <td>743.50000</td>\n",
       "      <td>1.575379e+07</td>\n",
       "      <td>721.000000</td>\n",
       "      <td>44.000000</td>\n",
       "      <td>8.000000</td>\n",
       "      <td>2.000000</td>\n",
       "      <td>1.000000</td>\n",
       "      <td>1.000000</td>\n",
       "      <td>0.000000</td>\n",
       "    </tr>\n",
       "    <tr>\n",
       "      <th>max</th>\n",
       "      <td>991.00000</td>\n",
       "      <td>1.581536e+07</td>\n",
       "      <td>850.000000</td>\n",
       "      <td>82.000000</td>\n",
       "      <td>10.000000</td>\n",
       "      <td>4.000000</td>\n",
       "      <td>1.000000</td>\n",
       "      <td>1.000000</td>\n",
       "      <td>1.000000</td>\n",
       "    </tr>\n",
       "  </tbody>\n",
       "</table>\n",
       "</div>"
      ],
      "text/plain": [
       "       Row_Number   Customer_ID  Credit Score         Age      Tenure  \\\n",
       "count   991.00000  9.910000e+02    988.000000  990.000000  991.000000   \n",
       "mean    496.00000  1.569232e+07    648.512146   38.684848    5.066599   \n",
       "std     286.22136  7.223333e+04     98.202853   10.958220    2.928371   \n",
       "min       1.00000  1.556609e+07    376.000000    2.000000    0.000000   \n",
       "25%     248.50000  1.563019e+07    579.750000   32.000000    2.000000   \n",
       "50%     496.00000  1.569275e+07    653.500000   37.000000    5.000000   \n",
       "75%     743.50000  1.575379e+07    721.000000   44.000000    8.000000   \n",
       "max     991.00000  1.581536e+07    850.000000   82.000000   10.000000   \n",
       "\n",
       "       NumOfProducts  HasCrCard?  IsActiveMember  ExitedFromBank?  \n",
       "count     991.000000  991.000000      991.000000       991.000000  \n",
       "mean        1.522704    0.706357        0.507568         0.205853  \n",
       "std         0.573170    0.455660        0.500195         0.404527  \n",
       "min         1.000000    0.000000        0.000000         0.000000  \n",
       "25%         1.000000    0.000000        0.000000         0.000000  \n",
       "50%         1.000000    1.000000        1.000000         0.000000  \n",
       "75%         2.000000    1.000000        1.000000         0.000000  \n",
       "max         4.000000    1.000000        1.000000         1.000000  "
      ]
     },
     "execution_count": 9,
     "metadata": {},
     "output_type": "execute_result"
    }
   ],
   "source": [
    "bank.describe()"
   ]
  },
  {
   "cell_type": "markdown",
   "id": "e321be4e-db74-46ba-9494-166a780b93b9",
   "metadata": {},
   "source": [
    "Initial Insights: \n",
    "- 991 rows\n",
    "- 991 customer id's\n",
    "- 988 credit scores: looks like we are missing 3 values here\n",
    "- 990 age: possibly missing 1 value here\n",
    "- 989 estimated salaries: possibly missing 2 values here\n",
    "- min and max credit scores look okay\n",
    "- min age: 2 (unrealistic unless someone opened an account for their child. This was confirmed with stakeholders that these are likely outliers and can be removed from the dataset.) "
   ]
  },
  {
   "cell_type": "markdown",
   "id": "91845461-f17c-478c-bdc2-be39c8a7443e",
   "metadata": {},
   "source": [
    "## 3. Consistency Checks"
   ]
  },
  {
   "cell_type": "markdown",
   "id": "4dc961b6-f2f6-4a1f-8792-9f1d72fb991e",
   "metadata": {},
   "source": [
    "### 3.1 Missing values"
   ]
  },
  {
   "cell_type": "code",
   "execution_count": 13,
   "id": "4252435e-2d2d-4dc4-add2-668054de483a",
   "metadata": {},
   "outputs": [
    {
     "data": {
      "text/plain": [
       "Row_Number          0\n",
       "Customer_ID         0\n",
       "Last_Name           1\n",
       "Credit Score        3\n",
       "Country             0\n",
       "Gender              1\n",
       "Age                 1\n",
       "Tenure              0\n",
       "Balance             0\n",
       "NumOfProducts       0\n",
       "HasCrCard?          0\n",
       "IsActiveMember      0\n",
       "Estimated Salary    2\n",
       "ExitedFromBank?     0\n",
       "dtype: int64"
      ]
     },
     "execution_count": 13,
     "metadata": {},
     "output_type": "execute_result"
    }
   ],
   "source": [
    "# Check for missing values\n",
    "bank.isnull().sum()"
   ]
  },
  {
   "cell_type": "markdown",
   "id": "529a8fe2-715c-4a86-9169-0b9f9f2eca65",
   "metadata": {},
   "source": [
    "There is one missing value in the last name column\n",
    "  - Last_Name is a non-numerical variable imputation is not an option. Valid options would be to either remove the entire row (which in this case contains other valuable information) or filling in the missing value with 'Unknown'.\n",
    "\n",
    "There are 3 missing values in the credit score column\n",
    "  - The mean and median are very close which indicates there likely aren't any major outliers. Imputation with the mean of credit scores makes the most sense. \n",
    "\n",
    "There is one missing value in the gender column\n",
    "  - There are 528 males\n",
    "  - There are 462 females\n",
    "  - There are several ways of handling this missing data\n",
    "    - Impute the missing gender record with the mode (most common gender) -- This could introduce bias\n",
    "    - Remove the record altogether -- This would remove data that may have been beneficial from the other columns. \n",
    "    - Fill in the missing value as 'unknown' -- When performing aggregations or charts based on the gender variable, having an unknown gender would not benefit the analysis.\n",
    "   - Method chosen: Remove the record. Due to there only being one missing value, I chose to remove this record as there will be very minimal impact to the analysis. Had there been many missing values, another method would have been chosen. \n",
    "\n",
    "There is one missing value in the age colomn\n",
    "  - There are several ways of handling this missing data\n",
    "    - Impute the missing age record with the mean age\n",
    "    - Remove the record altogether -- This would remove data that may have been beneficial from the other columns. \n",
    "    - Fill in the missing value as 'unknown' -- When performing aggregations or charts based on the age variable, having an unknown age would not benefit the analysis.\n",
    "  - Method chosen: Impute the record with the mean age. \n",
    "\n",
    "There are 2 missing values in the estimated salary column\n",
    "  - The mean and median are very close which indicates there likely aren't any major outliers. Imputation with the mean estimated salary makes the most sense. "
   ]
  },
  {
   "cell_type": "markdown",
   "id": "0e072a5b-20df-49bf-8754-463eb4e62569",
   "metadata": {},
   "source": [
    "#### Last_Name"
   ]
  },
  {
   "cell_type": "code",
   "execution_count": 16,
   "id": "c2c84644-66ca-4e59-992b-b7c3bf57e7be",
   "metadata": {},
   "outputs": [],
   "source": [
    "# Fill in missing 'Last_Name' value with 'Unknown'\n",
    "bank['Last_Name'] = bank['Last_Name'].fillna('Unknown')"
   ]
  },
  {
   "cell_type": "code",
   "execution_count": 17,
   "id": "2a3835e2-bb06-4021-aac6-3af37b77e2c1",
   "metadata": {},
   "outputs": [
    {
     "data": {
      "text/plain": [
       "0"
      ]
     },
     "execution_count": 17,
     "metadata": {},
     "output_type": "execute_result"
    }
   ],
   "source": [
    "# Check for missing values in last_name\n",
    "bank['Last_Name'].isnull().sum()"
   ]
  },
  {
   "cell_type": "markdown",
   "id": "e5c27e71-eed3-40ae-aafa-3817727c1ec1",
   "metadata": {},
   "source": [
    "#### Credit Score"
   ]
  },
  {
   "cell_type": "code",
   "execution_count": 19,
   "id": "cb923a74-bd7b-4150-a725-500e905d0e62",
   "metadata": {},
   "outputs": [],
   "source": [
    "# Calculate the mean credit score\n",
    "mean_credit_score = bank['Credit Score'].mean()\n",
    "\n",
    "# Fill missing values in the credit score column with the mean_credit_score\n",
    "bank.loc[:, 'Credit Score'] = bank['Credit Score'].fillna(mean_credit_score)"
   ]
  },
  {
   "cell_type": "code",
   "execution_count": 20,
   "id": "71816f5b-6507-4601-a785-22cb17907bde",
   "metadata": {},
   "outputs": [
    {
     "data": {
      "text/plain": [
       "0"
      ]
     },
     "execution_count": 20,
     "metadata": {},
     "output_type": "execute_result"
    }
   ],
   "source": [
    "# Check for missing values in Credit Score\n",
    "bank['Credit Score'].isnull().sum()"
   ]
  },
  {
   "cell_type": "markdown",
   "id": "f4132a59-a844-4b09-b2cb-26b52fbbbc46",
   "metadata": {},
   "source": [
    "#### Gender"
   ]
  },
  {
   "cell_type": "code",
   "execution_count": 22,
   "id": "c75ffd65-1ef6-45bc-9db2-07ef5603976f",
   "metadata": {},
   "outputs": [],
   "source": [
    "# Drop record with missing gender value\n",
    "bank = bank.dropna(subset=['Gender'])"
   ]
  },
  {
   "cell_type": "code",
   "execution_count": 23,
   "id": "4e6e441d-7b4c-4e67-8477-68de142db878",
   "metadata": {},
   "outputs": [
    {
     "data": {
      "text/plain": [
       "0"
      ]
     },
     "execution_count": 23,
     "metadata": {},
     "output_type": "execute_result"
    }
   ],
   "source": [
    "# Check for missing values in Gender\n",
    "bank['Gender'].isnull().sum()"
   ]
  },
  {
   "cell_type": "markdown",
   "id": "81f0fd40-755d-4871-9e08-c359c17cac3e",
   "metadata": {},
   "source": [
    "#### Age"
   ]
  },
  {
   "cell_type": "code",
   "execution_count": 25,
   "id": "0fdcd0bc-6e0a-45d3-93be-efaec3779799",
   "metadata": {},
   "outputs": [],
   "source": [
    "# Calculate the mean age\n",
    "mean_age = bank['Age'].mean()\n",
    "\n",
    "# Fill missing value in Age\n",
    "bank.loc[:, 'Age'] = bank['Age'].fillna(mean_age)"
   ]
  },
  {
   "cell_type": "code",
   "execution_count": 26,
   "id": "569ecd55-7de9-45d5-b5fb-86afb4458b21",
   "metadata": {},
   "outputs": [
    {
     "data": {
      "text/plain": [
       "0"
      ]
     },
     "execution_count": 26,
     "metadata": {},
     "output_type": "execute_result"
    }
   ],
   "source": [
    "# Check for missing values in Age\n",
    "bank['Age'].isnull().sum()"
   ]
  },
  {
   "cell_type": "markdown",
   "id": "0a4e13d4-f7b6-47ed-9179-4e70f4d789f8",
   "metadata": {},
   "source": [
    "#### Estimated Salary"
   ]
  },
  {
   "cell_type": "code",
   "execution_count": 28,
   "id": "ffb09345-8b06-4eac-ab44-5c4630aa8082",
   "metadata": {},
   "outputs": [],
   "source": [
    "## In order to perform aggregation on 'Estimated Salary', we must remove the dollar sign and comma and convert it from a string, into a numberical data type\n",
    "\n",
    "# Remove dollar signs and commas on 'Estimated Salary' column and change data type to float64\n",
    "bank['Estimated Salary'] = bank['Estimated Salary'].replace(r'[\\$,]', '', regex=True).astype('float64')\n",
    "\n",
    "# Calculate the mean estimated salary\n",
    "mean_estimated_salary = bank['Estimated Salary'].mean()\n",
    "\n",
    "# Fill missing values in estimated salary\n",
    "bank.loc[:, 'Estimated Salary'] = bank['Estimated Salary'].fillna(mean_estimated_salary)"
   ]
  },
  {
   "cell_type": "code",
   "execution_count": 29,
   "id": "e146a00e-46bb-42f1-99b2-31c2a7af4a9e",
   "metadata": {},
   "outputs": [
    {
     "data": {
      "text/plain": [
       "0"
      ]
     },
     "execution_count": 29,
     "metadata": {},
     "output_type": "execute_result"
    }
   ],
   "source": [
    "# Check for missing values in Estimated Salary\n",
    "bank['Estimated Salary'].isnull().sum()"
   ]
  },
  {
   "cell_type": "code",
   "execution_count": 30,
   "id": "5bf0b08a-708d-407f-9cf1-98c66434be33",
   "metadata": {},
   "outputs": [
    {
     "data": {
      "text/plain": [
       "Row_Number          0\n",
       "Customer_ID         0\n",
       "Last_Name           0\n",
       "Credit Score        0\n",
       "Country             0\n",
       "Gender              0\n",
       "Age                 0\n",
       "Tenure              0\n",
       "Balance             0\n",
       "NumOfProducts       0\n",
       "HasCrCard?          0\n",
       "IsActiveMember      0\n",
       "Estimated Salary    0\n",
       "ExitedFromBank?     0\n",
       "dtype: int64"
      ]
     },
     "execution_count": 30,
     "metadata": {},
     "output_type": "execute_result"
    }
   ],
   "source": [
    "# Final check\n",
    "bank.isnull().sum()"
   ]
  },
  {
   "cell_type": "markdown",
   "id": "49d36b78-2efe-493e-9f33-cd83044a43cf",
   "metadata": {},
   "source": [
    "There are no remaining missing values."
   ]
  },
  {
   "cell_type": "markdown",
   "id": "4e687068-1160-4863-ac4c-b9160b2a6c2f",
   "metadata": {},
   "source": [
    "### 3.2 Mixed-type data"
   ]
  },
  {
   "cell_type": "code",
   "execution_count": 33,
   "id": "40e81afc-1948-412b-9c8b-ed62d8594a4a",
   "metadata": {},
   "outputs": [
    {
     "name": "stdout",
     "output_type": "stream",
     "text": [
      "There is no mixed-type data\n",
      "There is no mixed-type data\n",
      "There is no mixed-type data\n",
      "There is no mixed-type data\n",
      "There is no mixed-type data\n",
      "There is no mixed-type data\n",
      "There is no mixed-type data\n",
      "There is no mixed-type data\n",
      "There is no mixed-type data\n",
      "There is no mixed-type data\n",
      "There is no mixed-type data\n",
      "There is no mixed-type data\n",
      "There is no mixed-type data\n",
      "There is no mixed-type data\n"
     ]
    }
   ],
   "source": [
    "# Check for mixed type data\n",
    "\n",
    "for col in bank.columns.tolist():\n",
    "    weird = (bank[[col]].map(type) != bank[[col]].iloc[0].apply(type)).any(axis = 1)\n",
    "    if len(bank[weird]) > 0:\n",
    "        print (col)\n",
    "    else: \n",
    "        print('There is no mixed-type data')"
   ]
  },
  {
   "cell_type": "markdown",
   "id": "db4dbc0f-8193-4641-ba5e-8614b19142d6",
   "metadata": {},
   "source": [
    "There is no mixed-type data."
   ]
  },
  {
   "cell_type": "markdown",
   "id": "916e53eb-7fce-4927-b599-406eeb73ebff",
   "metadata": {},
   "source": [
    "### 3.3 Update data types"
   ]
  },
  {
   "cell_type": "code",
   "execution_count": 36,
   "id": "6009ccc0-47a4-422a-8714-71b6179564a3",
   "metadata": {},
   "outputs": [
    {
     "data": {
      "text/plain": [
       "Row_Number            int64\n",
       "Customer_ID           int64\n",
       "Last_Name            object\n",
       "Credit Score        float64\n",
       "Country              object\n",
       "Gender               object\n",
       "Age                 float64\n",
       "Tenure                int64\n",
       "Balance              object\n",
       "NumOfProducts         int64\n",
       "HasCrCard?            int64\n",
       "IsActiveMember        int64\n",
       "Estimated Salary    float64\n",
       "ExitedFromBank?       int64\n",
       "dtype: object"
      ]
     },
     "execution_count": 36,
     "metadata": {},
     "output_type": "execute_result"
    }
   ],
   "source": [
    "# Check data types\n",
    "bank.dtypes"
   ]
  },
  {
   "cell_type": "code",
   "execution_count": 37,
   "id": "ece76cc8-e47b-4988-ad5a-7dbe8029a262",
   "metadata": {},
   "outputs": [],
   "source": [
    "# Change data type on 'Credit Score' to int64\n",
    "bank['Credit Score'] = bank['Credit Score'].astype('int64')"
   ]
  },
  {
   "cell_type": "code",
   "execution_count": 38,
   "id": "cc9ecc81-97ab-4ae2-8626-2f61c551ac13",
   "metadata": {},
   "outputs": [],
   "source": [
    "# Change data type on 'Age' to int64\n",
    "bank['Age'] = bank['Age'].astype('int64')"
   ]
  },
  {
   "cell_type": "code",
   "execution_count": 39,
   "id": "116d7067-a84b-47c8-85d9-379e3f2f11ca",
   "metadata": {
    "scrolled": true
   },
   "outputs": [],
   "source": [
    "# Remove dollar signs and commas on 'Balance' column and change data type to float64\n",
    "bank['Balance'] = bank['Balance'].replace(r'[\\$,]', '', regex=True).astype('float64')"
   ]
  },
  {
   "cell_type": "code",
   "execution_count": 40,
   "id": "1cbe78a4-073d-449b-b138-3dc75e984856",
   "metadata": {},
   "outputs": [],
   "source": [
    "# Change data type on 'HasCrCard?' to boolean\n",
    "bank['HasCrCard?'] = bank['HasCrCard?'].astype('boolean')"
   ]
  },
  {
   "cell_type": "code",
   "execution_count": 41,
   "id": "7e8cbbee-d84a-4837-8815-9c225eeea583",
   "metadata": {},
   "outputs": [],
   "source": [
    "# Change data type on 'IsActiveMember' to boolean\n",
    "bank['IsActiveMember'] = bank['IsActiveMember'].astype('boolean')"
   ]
  },
  {
   "cell_type": "code",
   "execution_count": 42,
   "id": "6f973970-ff47-4aac-a811-3b48b552c199",
   "metadata": {},
   "outputs": [],
   "source": [
    "# Change data type on 'ExitedFromBank?' to boolean\n",
    "bank['ExitedFromBank?'] = bank['ExitedFromBank?'].astype('boolean')"
   ]
  },
  {
   "cell_type": "code",
   "execution_count": 43,
   "id": "baba480a-c356-4d66-a635-57c96421939f",
   "metadata": {},
   "outputs": [
    {
     "data": {
      "text/plain": [
       "Row_Number            int64\n",
       "Customer_ID           int64\n",
       "Last_Name            object\n",
       "Credit Score          int64\n",
       "Country              object\n",
       "Gender               object\n",
       "Age                   int64\n",
       "Tenure                int64\n",
       "Balance             float64\n",
       "NumOfProducts         int64\n",
       "HasCrCard?          boolean\n",
       "IsActiveMember      boolean\n",
       "Estimated Salary    float64\n",
       "ExitedFromBank?     boolean\n",
       "dtype: object"
      ]
     },
     "execution_count": 43,
     "metadata": {},
     "output_type": "execute_result"
    }
   ],
   "source": [
    "# Confirm changes\n",
    "bank.dtypes"
   ]
  },
  {
   "cell_type": "markdown",
   "id": "5d817676-a4ab-45bd-8546-63a135fe5ef1",
   "metadata": {},
   "source": [
    "### 3.4 Duplicates"
   ]
  },
  {
   "cell_type": "code",
   "execution_count": 45,
   "id": "257d203b-3d18-43a3-9ab8-dd7e200d8fdc",
   "metadata": {},
   "outputs": [
    {
     "data": {
      "text/html": [
       "<div>\n",
       "<style scoped>\n",
       "    .dataframe tbody tr th:only-of-type {\n",
       "        vertical-align: middle;\n",
       "    }\n",
       "\n",
       "    .dataframe tbody tr th {\n",
       "        vertical-align: top;\n",
       "    }\n",
       "\n",
       "    .dataframe thead th {\n",
       "        text-align: right;\n",
       "    }\n",
       "</style>\n",
       "<table border=\"1\" class=\"dataframe\">\n",
       "  <thead>\n",
       "    <tr style=\"text-align: right;\">\n",
       "      <th></th>\n",
       "      <th>Row_Number</th>\n",
       "      <th>Customer_ID</th>\n",
       "      <th>Last_Name</th>\n",
       "      <th>Credit Score</th>\n",
       "      <th>Country</th>\n",
       "      <th>Gender</th>\n",
       "      <th>Age</th>\n",
       "      <th>Tenure</th>\n",
       "      <th>Balance</th>\n",
       "      <th>NumOfProducts</th>\n",
       "      <th>HasCrCard?</th>\n",
       "      <th>IsActiveMember</th>\n",
       "      <th>Estimated Salary</th>\n",
       "      <th>ExitedFromBank?</th>\n",
       "    </tr>\n",
       "  </thead>\n",
       "  <tbody>\n",
       "  </tbody>\n",
       "</table>\n",
       "</div>"
      ],
      "text/plain": [
       "Empty DataFrame\n",
       "Columns: [Row_Number, Customer_ID, Last_Name, Credit Score, Country, Gender, Age, Tenure, Balance, NumOfProducts, HasCrCard?, IsActiveMember, Estimated Salary, ExitedFromBank?]\n",
       "Index: []"
      ]
     },
     "execution_count": 45,
     "metadata": {},
     "output_type": "execute_result"
    }
   ],
   "source": [
    "# Create subset bank_dups to hold any duplicated rows in the bank dataframe\n",
    "bank_dups = bank[bank.duplicated()]\n",
    "\n",
    "# If bank_dups returns empty, there are no duplicates.\n",
    "# If bank_dups returns values, those are the duplicates. \n",
    "bank_dups"
   ]
  },
  {
   "cell_type": "markdown",
   "id": "9bb5f655-523e-40cd-a768-d2f31c79ee1c",
   "metadata": {},
   "source": [
    "There are no duplicates."
   ]
  },
  {
   "cell_type": "code",
   "execution_count": 47,
   "id": "e913dd27-9868-47a1-b39b-e9851e9431a8",
   "metadata": {},
   "outputs": [
    {
     "data": {
      "text/plain": [
       "(990, 14)"
      ]
     },
     "execution_count": 47,
     "metadata": {},
     "output_type": "execute_result"
    }
   ],
   "source": [
    "# Check data shape\n",
    "bank.shape"
   ]
  },
  {
   "cell_type": "markdown",
   "id": "bd9d7569-b8ef-4e91-91ca-b999aed51902",
   "metadata": {},
   "source": [
    "## 4. Data Wrangling"
   ]
  },
  {
   "cell_type": "markdown",
   "id": "4a36e0b6-8c65-46d9-92a6-9f70a8fee02f",
   "metadata": {},
   "source": [
    "### 4.1 Drop columns if necessary"
   ]
  },
  {
   "cell_type": "code",
   "execution_count": 50,
   "id": "0c6b9c76-f627-4367-853e-8e15e3797b8a",
   "metadata": {},
   "outputs": [
    {
     "data": {
      "text/html": [
       "<div>\n",
       "<style scoped>\n",
       "    .dataframe tbody tr th:only-of-type {\n",
       "        vertical-align: middle;\n",
       "    }\n",
       "\n",
       "    .dataframe tbody tr th {\n",
       "        vertical-align: top;\n",
       "    }\n",
       "\n",
       "    .dataframe thead th {\n",
       "        text-align: right;\n",
       "    }\n",
       "</style>\n",
       "<table border=\"1\" class=\"dataframe\">\n",
       "  <thead>\n",
       "    <tr style=\"text-align: right;\">\n",
       "      <th></th>\n",
       "      <th>Row_Number</th>\n",
       "      <th>Customer_ID</th>\n",
       "      <th>Last_Name</th>\n",
       "      <th>Credit Score</th>\n",
       "      <th>Country</th>\n",
       "      <th>Gender</th>\n",
       "      <th>Age</th>\n",
       "      <th>Tenure</th>\n",
       "      <th>Balance</th>\n",
       "      <th>NumOfProducts</th>\n",
       "      <th>HasCrCard?</th>\n",
       "      <th>IsActiveMember</th>\n",
       "      <th>Estimated Salary</th>\n",
       "      <th>ExitedFromBank?</th>\n",
       "    </tr>\n",
       "  </thead>\n",
       "  <tbody>\n",
       "    <tr>\n",
       "      <th>0</th>\n",
       "      <td>1</td>\n",
       "      <td>15634602</td>\n",
       "      <td>Hargrave</td>\n",
       "      <td>619</td>\n",
       "      <td>France</td>\n",
       "      <td>Female</td>\n",
       "      <td>42</td>\n",
       "      <td>2</td>\n",
       "      <td>0.00</td>\n",
       "      <td>1</td>\n",
       "      <td>True</td>\n",
       "      <td>True</td>\n",
       "      <td>101348.88</td>\n",
       "      <td>True</td>\n",
       "    </tr>\n",
       "    <tr>\n",
       "      <th>1</th>\n",
       "      <td>2</td>\n",
       "      <td>15647311</td>\n",
       "      <td>Hill</td>\n",
       "      <td>608</td>\n",
       "      <td>Spain</td>\n",
       "      <td>Female</td>\n",
       "      <td>41</td>\n",
       "      <td>1</td>\n",
       "      <td>83807.86</td>\n",
       "      <td>1</td>\n",
       "      <td>False</td>\n",
       "      <td>True</td>\n",
       "      <td>112542.58</td>\n",
       "      <td>False</td>\n",
       "    </tr>\n",
       "    <tr>\n",
       "      <th>2</th>\n",
       "      <td>3</td>\n",
       "      <td>15619304</td>\n",
       "      <td>Onio</td>\n",
       "      <td>502</td>\n",
       "      <td>France</td>\n",
       "      <td>Female</td>\n",
       "      <td>42</td>\n",
       "      <td>8</td>\n",
       "      <td>159660.80</td>\n",
       "      <td>3</td>\n",
       "      <td>True</td>\n",
       "      <td>False</td>\n",
       "      <td>113931.57</td>\n",
       "      <td>True</td>\n",
       "    </tr>\n",
       "    <tr>\n",
       "      <th>3</th>\n",
       "      <td>4</td>\n",
       "      <td>15701354</td>\n",
       "      <td>Boni</td>\n",
       "      <td>699</td>\n",
       "      <td>France</td>\n",
       "      <td>Female</td>\n",
       "      <td>39</td>\n",
       "      <td>1</td>\n",
       "      <td>0.00</td>\n",
       "      <td>2</td>\n",
       "      <td>False</td>\n",
       "      <td>False</td>\n",
       "      <td>93826.63</td>\n",
       "      <td>False</td>\n",
       "    </tr>\n",
       "    <tr>\n",
       "      <th>4</th>\n",
       "      <td>5</td>\n",
       "      <td>15737888</td>\n",
       "      <td>Mitchell</td>\n",
       "      <td>850</td>\n",
       "      <td>Spain</td>\n",
       "      <td>Female</td>\n",
       "      <td>43</td>\n",
       "      <td>2</td>\n",
       "      <td>125510.82</td>\n",
       "      <td>1</td>\n",
       "      <td>True</td>\n",
       "      <td>True</td>\n",
       "      <td>79084.10</td>\n",
       "      <td>False</td>\n",
       "    </tr>\n",
       "  </tbody>\n",
       "</table>\n",
       "</div>"
      ],
      "text/plain": [
       "   Row_Number  Customer_ID Last_Name  Credit Score Country  Gender  Age  \\\n",
       "0           1     15634602  Hargrave           619  France  Female   42   \n",
       "1           2     15647311      Hill           608   Spain  Female   41   \n",
       "2           3     15619304      Onio           502  France  Female   42   \n",
       "3           4     15701354      Boni           699  France  Female   39   \n",
       "4           5     15737888  Mitchell           850   Spain  Female   43   \n",
       "\n",
       "   Tenure    Balance  NumOfProducts  HasCrCard?  IsActiveMember  \\\n",
       "0       2       0.00              1        True            True   \n",
       "1       1   83807.86              1       False            True   \n",
       "2       8  159660.80              3        True           False   \n",
       "3       1       0.00              2       False           False   \n",
       "4       2  125510.82              1        True            True   \n",
       "\n",
       "   Estimated Salary  ExitedFromBank?  \n",
       "0         101348.88             True  \n",
       "1         112542.58            False  \n",
       "2         113931.57             True  \n",
       "3          93826.63            False  \n",
       "4          79084.10            False  "
      ]
     },
     "execution_count": 50,
     "metadata": {},
     "output_type": "execute_result"
    }
   ],
   "source": [
    "bank.head()"
   ]
  },
  {
   "cell_type": "code",
   "execution_count": 51,
   "id": "2efe860f-ab19-4c04-920a-c87b3fd72759",
   "metadata": {},
   "outputs": [],
   "source": [
    "# Drop Row_Number column\n",
    "bank = bank.drop(columns=['Row_Number'])"
   ]
  },
  {
   "cell_type": "code",
   "execution_count": 52,
   "id": "659052e6-929d-4ddc-8e50-18ebd9bcad4c",
   "metadata": {},
   "outputs": [
    {
     "data": {
      "text/html": [
       "<div>\n",
       "<style scoped>\n",
       "    .dataframe tbody tr th:only-of-type {\n",
       "        vertical-align: middle;\n",
       "    }\n",
       "\n",
       "    .dataframe tbody tr th {\n",
       "        vertical-align: top;\n",
       "    }\n",
       "\n",
       "    .dataframe thead th {\n",
       "        text-align: right;\n",
       "    }\n",
       "</style>\n",
       "<table border=\"1\" class=\"dataframe\">\n",
       "  <thead>\n",
       "    <tr style=\"text-align: right;\">\n",
       "      <th></th>\n",
       "      <th>Customer_ID</th>\n",
       "      <th>Last_Name</th>\n",
       "      <th>Credit Score</th>\n",
       "      <th>Country</th>\n",
       "      <th>Gender</th>\n",
       "      <th>Age</th>\n",
       "      <th>Tenure</th>\n",
       "      <th>Balance</th>\n",
       "      <th>NumOfProducts</th>\n",
       "      <th>HasCrCard?</th>\n",
       "      <th>IsActiveMember</th>\n",
       "      <th>Estimated Salary</th>\n",
       "      <th>ExitedFromBank?</th>\n",
       "    </tr>\n",
       "  </thead>\n",
       "  <tbody>\n",
       "    <tr>\n",
       "      <th>0</th>\n",
       "      <td>15634602</td>\n",
       "      <td>Hargrave</td>\n",
       "      <td>619</td>\n",
       "      <td>France</td>\n",
       "      <td>Female</td>\n",
       "      <td>42</td>\n",
       "      <td>2</td>\n",
       "      <td>0.00</td>\n",
       "      <td>1</td>\n",
       "      <td>True</td>\n",
       "      <td>True</td>\n",
       "      <td>101348.88</td>\n",
       "      <td>True</td>\n",
       "    </tr>\n",
       "    <tr>\n",
       "      <th>1</th>\n",
       "      <td>15647311</td>\n",
       "      <td>Hill</td>\n",
       "      <td>608</td>\n",
       "      <td>Spain</td>\n",
       "      <td>Female</td>\n",
       "      <td>41</td>\n",
       "      <td>1</td>\n",
       "      <td>83807.86</td>\n",
       "      <td>1</td>\n",
       "      <td>False</td>\n",
       "      <td>True</td>\n",
       "      <td>112542.58</td>\n",
       "      <td>False</td>\n",
       "    </tr>\n",
       "    <tr>\n",
       "      <th>2</th>\n",
       "      <td>15619304</td>\n",
       "      <td>Onio</td>\n",
       "      <td>502</td>\n",
       "      <td>France</td>\n",
       "      <td>Female</td>\n",
       "      <td>42</td>\n",
       "      <td>8</td>\n",
       "      <td>159660.80</td>\n",
       "      <td>3</td>\n",
       "      <td>True</td>\n",
       "      <td>False</td>\n",
       "      <td>113931.57</td>\n",
       "      <td>True</td>\n",
       "    </tr>\n",
       "    <tr>\n",
       "      <th>3</th>\n",
       "      <td>15701354</td>\n",
       "      <td>Boni</td>\n",
       "      <td>699</td>\n",
       "      <td>France</td>\n",
       "      <td>Female</td>\n",
       "      <td>39</td>\n",
       "      <td>1</td>\n",
       "      <td>0.00</td>\n",
       "      <td>2</td>\n",
       "      <td>False</td>\n",
       "      <td>False</td>\n",
       "      <td>93826.63</td>\n",
       "      <td>False</td>\n",
       "    </tr>\n",
       "    <tr>\n",
       "      <th>4</th>\n",
       "      <td>15737888</td>\n",
       "      <td>Mitchell</td>\n",
       "      <td>850</td>\n",
       "      <td>Spain</td>\n",
       "      <td>Female</td>\n",
       "      <td>43</td>\n",
       "      <td>2</td>\n",
       "      <td>125510.82</td>\n",
       "      <td>1</td>\n",
       "      <td>True</td>\n",
       "      <td>True</td>\n",
       "      <td>79084.10</td>\n",
       "      <td>False</td>\n",
       "    </tr>\n",
       "  </tbody>\n",
       "</table>\n",
       "</div>"
      ],
      "text/plain": [
       "   Customer_ID Last_Name  Credit Score Country  Gender  Age  Tenure  \\\n",
       "0     15634602  Hargrave           619  France  Female   42       2   \n",
       "1     15647311      Hill           608   Spain  Female   41       1   \n",
       "2     15619304      Onio           502  France  Female   42       8   \n",
       "3     15701354      Boni           699  France  Female   39       1   \n",
       "4     15737888  Mitchell           850   Spain  Female   43       2   \n",
       "\n",
       "     Balance  NumOfProducts  HasCrCard?  IsActiveMember  Estimated Salary  \\\n",
       "0       0.00              1        True            True         101348.88   \n",
       "1   83807.86              1       False            True         112542.58   \n",
       "2  159660.80              3        True           False         113931.57   \n",
       "3       0.00              2       False           False          93826.63   \n",
       "4  125510.82              1        True            True          79084.10   \n",
       "\n",
       "   ExitedFromBank?  \n",
       "0             True  \n",
       "1            False  \n",
       "2             True  \n",
       "3            False  \n",
       "4            False  "
      ]
     },
     "execution_count": 52,
     "metadata": {},
     "output_type": "execute_result"
    }
   ],
   "source": [
    "bank.head()"
   ]
  },
  {
   "cell_type": "markdown",
   "id": "aeeab321-92a8-489e-95ac-934a063c0804",
   "metadata": {},
   "source": [
    "## 5. Check frequencies in pertinent columns"
   ]
  },
  {
   "cell_type": "markdown",
   "id": "03bc69ef-eaf5-4408-978e-4c565e70eb94",
   "metadata": {},
   "source": [
    "### 5.1 Country"
   ]
  },
  {
   "cell_type": "code",
   "execution_count": 55,
   "id": "12f1f304-87f6-4692-8a98-c73c770b2d4b",
   "metadata": {},
   "outputs": [
    {
     "data": {
      "text/plain": [
       "Country\n",
       "FR         244\n",
       "France     236\n",
       "Germany    234\n",
       "Spain      135\n",
       "ES         118\n",
       "DE          23\n",
       "Name: count, dtype: int64"
      ]
     },
     "execution_count": 55,
     "metadata": {},
     "output_type": "execute_result"
    }
   ],
   "source": [
    "bank['Country'].value_counts()"
   ]
  },
  {
   "cell_type": "markdown",
   "id": "a9e1648e-a60b-4864-9d6e-59d3878369d1",
   "metadata": {},
   "source": [
    "Some countries are abbreviated, while some are spelled out. Update abbreviated countries to be spelled out. "
   ]
  },
  {
   "cell_type": "markdown",
   "id": "61420707-ab26-493f-b2ca-b9b25c8bda95",
   "metadata": {},
   "source": [
    "Country Code Abbreviations: https://www.yourdictionary.com/articles/country-abbreviations"
   ]
  },
  {
   "cell_type": "code",
   "execution_count": 58,
   "id": "20652acc-a373-456a-9167-3842abd28098",
   "metadata": {},
   "outputs": [],
   "source": [
    "# Update FR to France\n",
    "bank['Country'] = bank['Country'].replace('FR', 'France')"
   ]
  },
  {
   "cell_type": "code",
   "execution_count": 59,
   "id": "f61ebba7-44ac-47da-91dc-1f9314a20428",
   "metadata": {},
   "outputs": [],
   "source": [
    "# Update ES to Spain\n",
    "bank['Country'] = bank['Country'].replace('ES', 'Spain')"
   ]
  },
  {
   "cell_type": "code",
   "execution_count": 60,
   "id": "afd82628-4c36-4a17-8787-e5da9e9ae0ac",
   "metadata": {},
   "outputs": [],
   "source": [
    "# Update DE to Germany\n",
    "bank['Country'] = bank['Country'].replace('DE', 'Germany')"
   ]
  },
  {
   "cell_type": "code",
   "execution_count": 61,
   "id": "03181b47-fa3b-41eb-ac93-1bb821a46f4c",
   "metadata": {},
   "outputs": [
    {
     "data": {
      "text/plain": [
       "Country\n",
       "France     480\n",
       "Germany    257\n",
       "Spain      253\n",
       "Name: count, dtype: int64"
      ]
     },
     "execution_count": 61,
     "metadata": {},
     "output_type": "execute_result"
    }
   ],
   "source": [
    "# Confirm changes\n",
    "bank['Country'].value_counts()"
   ]
  },
  {
   "cell_type": "markdown",
   "id": "94742d39-5717-45a0-ba3c-df84116bd1f7",
   "metadata": {},
   "source": [
    "### 5.2 Gender"
   ]
  },
  {
   "cell_type": "code",
   "execution_count": 63,
   "id": "ddae3aa9-190e-4eb1-9323-1bd45d17f95f",
   "metadata": {},
   "outputs": [
    {
     "data": {
      "text/plain": [
       "Gender\n",
       "Male      479\n",
       "Female    443\n",
       "M          49\n",
       "F          19\n",
       "Name: count, dtype: int64"
      ]
     },
     "execution_count": 63,
     "metadata": {},
     "output_type": "execute_result"
    }
   ],
   "source": [
    "bank['Gender'].value_counts()"
   ]
  },
  {
   "cell_type": "markdown",
   "id": "33ba7266-9704-444f-816c-7ea1708cd5e9",
   "metadata": {},
   "source": [
    "Some records use the abbreviations, while some have the gender spelled out. Update abbreviated records to be spelled out. "
   ]
  },
  {
   "cell_type": "code",
   "execution_count": 65,
   "id": "340a0faf-e1b3-4f62-baa8-488ffbe47166",
   "metadata": {},
   "outputs": [],
   "source": [
    "# Update M to male\n",
    "bank['Gender'] = bank['Gender'].replace('M', 'Male')"
   ]
  },
  {
   "cell_type": "code",
   "execution_count": 66,
   "id": "fd35da3c-007e-4164-8259-72e16738c18e",
   "metadata": {},
   "outputs": [],
   "source": [
    "# Update F to female\n",
    "bank['Gender'] = bank['Gender'].replace('F', 'Female')"
   ]
  },
  {
   "cell_type": "code",
   "execution_count": 67,
   "id": "e875147d-ae4c-47a0-80ae-e6b426a5962c",
   "metadata": {},
   "outputs": [
    {
     "data": {
      "text/plain": [
       "Gender\n",
       "Male      528\n",
       "Female    462\n",
       "Name: count, dtype: int64"
      ]
     },
     "execution_count": 67,
     "metadata": {},
     "output_type": "execute_result"
    }
   ],
   "source": [
    "# Confirm changes\n",
    "bank['Gender'].value_counts()"
   ]
  },
  {
   "cell_type": "markdown",
   "id": "97442f4c-c519-4dee-b4f3-90b618de2516",
   "metadata": {},
   "source": [
    "### 5.4 Age"
   ]
  },
  {
   "cell_type": "code",
   "execution_count": 126,
   "id": "513c78c5-0d8a-4f92-862d-b6e0555a7354",
   "metadata": {},
   "outputs": [],
   "source": [
    "# Correct Age values <18 years\n",
    "age_check = bank[bank['Age'] < 18]"
   ]
  },
  {
   "cell_type": "code",
   "execution_count": 128,
   "id": "ea6dda25-d0e5-44e3-8d76-7537e78a28e8",
   "metadata": {},
   "outputs": [
    {
     "data": {
      "text/html": [
       "<div>\n",
       "<style scoped>\n",
       "    .dataframe tbody tr th:only-of-type {\n",
       "        vertical-align: middle;\n",
       "    }\n",
       "\n",
       "    .dataframe tbody tr th {\n",
       "        vertical-align: top;\n",
       "    }\n",
       "\n",
       "    .dataframe thead th {\n",
       "        text-align: right;\n",
       "    }\n",
       "</style>\n",
       "<table border=\"1\" class=\"dataframe\">\n",
       "  <thead>\n",
       "    <tr style=\"text-align: right;\">\n",
       "      <th></th>\n",
       "      <th>Customer_ID</th>\n",
       "      <th>Last_Name</th>\n",
       "      <th>Credit Score</th>\n",
       "      <th>Country</th>\n",
       "      <th>Gender</th>\n",
       "      <th>Age</th>\n",
       "      <th>Tenure</th>\n",
       "      <th>Balance</th>\n",
       "      <th>NumOfProducts</th>\n",
       "      <th>HasCrCard?</th>\n",
       "      <th>IsActiveMember</th>\n",
       "      <th>Estimated Salary</th>\n",
       "      <th>ExitedFromBank?</th>\n",
       "    </tr>\n",
       "  </thead>\n",
       "  <tbody>\n",
       "    <tr>\n",
       "      <th>624</th>\n",
       "      <td>15745307</td>\n",
       "      <td>Ch'iu</td>\n",
       "      <td>477</td>\n",
       "      <td>Spain</td>\n",
       "      <td>Female</td>\n",
       "      <td>2</td>\n",
       "      <td>2</td>\n",
       "      <td>129120.64</td>\n",
       "      <td>1</td>\n",
       "      <td>False</td>\n",
       "      <td>True</td>\n",
       "      <td>26475.79</td>\n",
       "      <td>False</td>\n",
       "    </tr>\n",
       "    <tr>\n",
       "      <th>629</th>\n",
       "      <td>15692463</td>\n",
       "      <td>Rahman</td>\n",
       "      <td>799</td>\n",
       "      <td>Spain</td>\n",
       "      <td>Female</td>\n",
       "      <td>2</td>\n",
       "      <td>3</td>\n",
       "      <td>142253.65</td>\n",
       "      <td>1</td>\n",
       "      <td>True</td>\n",
       "      <td>False</td>\n",
       "      <td>45042.56</td>\n",
       "      <td>False</td>\n",
       "    </tr>\n",
       "    <tr>\n",
       "      <th>632</th>\n",
       "      <td>15718673</td>\n",
       "      <td>Mirams</td>\n",
       "      <td>839</td>\n",
       "      <td>Spain</td>\n",
       "      <td>Female</td>\n",
       "      <td>2</td>\n",
       "      <td>10</td>\n",
       "      <td>75592.43</td>\n",
       "      <td>1</td>\n",
       "      <td>True</td>\n",
       "      <td>False</td>\n",
       "      <td>62674.42</td>\n",
       "      <td>False</td>\n",
       "    </tr>\n",
       "    <tr>\n",
       "      <th>635</th>\n",
       "      <td>15633648</td>\n",
       "      <td>Jideofor</td>\n",
       "      <td>696</td>\n",
       "      <td>Spain</td>\n",
       "      <td>Female</td>\n",
       "      <td>2</td>\n",
       "      <td>5</td>\n",
       "      <td>0.00</td>\n",
       "      <td>2</td>\n",
       "      <td>True</td>\n",
       "      <td>False</td>\n",
       "      <td>55022.43</td>\n",
       "      <td>False</td>\n",
       "    </tr>\n",
       "    <tr>\n",
       "      <th>636</th>\n",
       "      <td>15603323</td>\n",
       "      <td>Bell</td>\n",
       "      <td>660</td>\n",
       "      <td>Spain</td>\n",
       "      <td>Female</td>\n",
       "      <td>2</td>\n",
       "      <td>1</td>\n",
       "      <td>0.00</td>\n",
       "      <td>2</td>\n",
       "      <td>False</td>\n",
       "      <td>False</td>\n",
       "      <td>117834.91</td>\n",
       "      <td>False</td>\n",
       "    </tr>\n",
       "    <tr>\n",
       "      <th>673</th>\n",
       "      <td>15745621</td>\n",
       "      <td>Wertheim</td>\n",
       "      <td>640</td>\n",
       "      <td>Spain</td>\n",
       "      <td>Female</td>\n",
       "      <td>2</td>\n",
       "      <td>6</td>\n",
       "      <td>118879.35</td>\n",
       "      <td>2</td>\n",
       "      <td>True</td>\n",
       "      <td>True</td>\n",
       "      <td>19131.71</td>\n",
       "      <td>False</td>\n",
       "    </tr>\n",
       "    <tr>\n",
       "      <th>676</th>\n",
       "      <td>15607040</td>\n",
       "      <td>P'an</td>\n",
       "      <td>593</td>\n",
       "      <td>Spain</td>\n",
       "      <td>Female</td>\n",
       "      <td>2</td>\n",
       "      <td>4</td>\n",
       "      <td>88736.44</td>\n",
       "      <td>2</td>\n",
       "      <td>True</td>\n",
       "      <td>False</td>\n",
       "      <td>67020.03</td>\n",
       "      <td>False</td>\n",
       "    </tr>\n",
       "    <tr>\n",
       "      <th>678</th>\n",
       "      <td>15810978</td>\n",
       "      <td>Pugliesi</td>\n",
       "      <td>788</td>\n",
       "      <td>Spain</td>\n",
       "      <td>Female</td>\n",
       "      <td>2</td>\n",
       "      <td>1</td>\n",
       "      <td>0.00</td>\n",
       "      <td>2</td>\n",
       "      <td>True</td>\n",
       "      <td>True</td>\n",
       "      <td>41610.62</td>\n",
       "      <td>False</td>\n",
       "    </tr>\n",
       "    <tr>\n",
       "      <th>679</th>\n",
       "      <td>15668886</td>\n",
       "      <td>Blakey</td>\n",
       "      <td>684</td>\n",
       "      <td>Spain</td>\n",
       "      <td>Female</td>\n",
       "      <td>2</td>\n",
       "      <td>3</td>\n",
       "      <td>0.00</td>\n",
       "      <td>2</td>\n",
       "      <td>True</td>\n",
       "      <td>False</td>\n",
       "      <td>44255.65</td>\n",
       "      <td>False</td>\n",
       "    </tr>\n",
       "    <tr>\n",
       "      <th>702</th>\n",
       "      <td>15603436</td>\n",
       "      <td>Savage</td>\n",
       "      <td>594</td>\n",
       "      <td>Spain</td>\n",
       "      <td>Female</td>\n",
       "      <td>2</td>\n",
       "      <td>2</td>\n",
       "      <td>126615.94</td>\n",
       "      <td>2</td>\n",
       "      <td>False</td>\n",
       "      <td>True</td>\n",
       "      <td>123214.74</td>\n",
       "      <td>False</td>\n",
       "    </tr>\n",
       "    <tr>\n",
       "      <th>714</th>\n",
       "      <td>15807609</td>\n",
       "      <td>Yuan</td>\n",
       "      <td>650</td>\n",
       "      <td>Spain</td>\n",
       "      <td>Female</td>\n",
       "      <td>2</td>\n",
       "      <td>3</td>\n",
       "      <td>86605.50</td>\n",
       "      <td>3</td>\n",
       "      <td>True</td>\n",
       "      <td>False</td>\n",
       "      <td>16649.31</td>\n",
       "      <td>True</td>\n",
       "    </tr>\n",
       "  </tbody>\n",
       "</table>\n",
       "</div>"
      ],
      "text/plain": [
       "     Customer_ID Last_Name  Credit Score Country  Gender  Age  Tenure  \\\n",
       "624     15745307     Ch'iu           477   Spain  Female    2       2   \n",
       "629     15692463    Rahman           799   Spain  Female    2       3   \n",
       "632     15718673    Mirams           839   Spain  Female    2      10   \n",
       "635     15633648  Jideofor           696   Spain  Female    2       5   \n",
       "636     15603323      Bell           660   Spain  Female    2       1   \n",
       "673     15745621  Wertheim           640   Spain  Female    2       6   \n",
       "676     15607040      P'an           593   Spain  Female    2       4   \n",
       "678     15810978  Pugliesi           788   Spain  Female    2       1   \n",
       "679     15668886    Blakey           684   Spain  Female    2       3   \n",
       "702     15603436    Savage           594   Spain  Female    2       2   \n",
       "714     15807609      Yuan           650   Spain  Female    2       3   \n",
       "\n",
       "       Balance  NumOfProducts  HasCrCard?  IsActiveMember  Estimated Salary  \\\n",
       "624  129120.64              1       False            True          26475.79   \n",
       "629  142253.65              1        True           False          45042.56   \n",
       "632   75592.43              1        True           False          62674.42   \n",
       "635       0.00              2        True           False          55022.43   \n",
       "636       0.00              2       False           False         117834.91   \n",
       "673  118879.35              2        True            True          19131.71   \n",
       "676   88736.44              2        True           False          67020.03   \n",
       "678       0.00              2        True            True          41610.62   \n",
       "679       0.00              2        True           False          44255.65   \n",
       "702  126615.94              2       False            True         123214.74   \n",
       "714   86605.50              3        True           False          16649.31   \n",
       "\n",
       "     ExitedFromBank?  \n",
       "624            False  \n",
       "629            False  \n",
       "632            False  \n",
       "635            False  \n",
       "636            False  \n",
       "673            False  \n",
       "676            False  \n",
       "678            False  \n",
       "679            False  \n",
       "702            False  \n",
       "714             True  "
      ]
     },
     "execution_count": 128,
     "metadata": {},
     "output_type": "execute_result"
    }
   ],
   "source": [
    "age_check"
   ]
  },
  {
   "cell_type": "markdown",
   "id": "0c3af0e4-9238-4c99-909a-25ca94132bf1",
   "metadata": {},
   "source": [
    "There are 11 records with ages less than 18 years. Per the stakeholders, these are to be removed. "
   ]
  },
  {
   "cell_type": "code",
   "execution_count": 132,
   "id": "171bef50-9151-4b0b-b0fe-efc7d9f94ffa",
   "metadata": {},
   "outputs": [],
   "source": [
    "bank = bank.drop(age_check.index)"
   ]
  },
  {
   "cell_type": "code",
   "execution_count": 134,
   "id": "20ef055d-faed-4e91-8c46-ed2fe2e68666",
   "metadata": {},
   "outputs": [
    {
     "data": {
      "text/html": [
       "<div>\n",
       "<style scoped>\n",
       "    .dataframe tbody tr th:only-of-type {\n",
       "        vertical-align: middle;\n",
       "    }\n",
       "\n",
       "    .dataframe tbody tr th {\n",
       "        vertical-align: top;\n",
       "    }\n",
       "\n",
       "    .dataframe thead th {\n",
       "        text-align: right;\n",
       "    }\n",
       "</style>\n",
       "<table border=\"1\" class=\"dataframe\">\n",
       "  <thead>\n",
       "    <tr style=\"text-align: right;\">\n",
       "      <th></th>\n",
       "      <th>Customer_ID</th>\n",
       "      <th>Credit Score</th>\n",
       "      <th>Age</th>\n",
       "      <th>Tenure</th>\n",
       "      <th>Balance</th>\n",
       "      <th>NumOfProducts</th>\n",
       "      <th>Estimated Salary</th>\n",
       "    </tr>\n",
       "  </thead>\n",
       "  <tbody>\n",
       "    <tr>\n",
       "      <th>count</th>\n",
       "      <td>9.790000e+02</td>\n",
       "      <td>979.000000</td>\n",
       "      <td>979.000000</td>\n",
       "      <td>979.000000</td>\n",
       "      <td>979.000000</td>\n",
       "      <td>979.000000</td>\n",
       "      <td>979.000000</td>\n",
       "    </tr>\n",
       "    <tr>\n",
       "      <th>mean</th>\n",
       "      <td>1.569225e+07</td>\n",
       "      <td>648.372829</td>\n",
       "      <td>39.111338</td>\n",
       "      <td>5.084780</td>\n",
       "      <td>78174.555312</td>\n",
       "      <td>1.518897</td>\n",
       "      <td>99072.619871</td>\n",
       "    </tr>\n",
       "    <tr>\n",
       "      <th>std</th>\n",
       "      <td>7.223189e+04</td>\n",
       "      <td>97.922578</td>\n",
       "      <td>10.290507</td>\n",
       "      <td>2.929639</td>\n",
       "      <td>62847.279285</td>\n",
       "      <td>0.572370</td>\n",
       "      <td>57220.874890</td>\n",
       "    </tr>\n",
       "    <tr>\n",
       "      <th>min</th>\n",
       "      <td>1.556609e+07</td>\n",
       "      <td>376.000000</td>\n",
       "      <td>18.000000</td>\n",
       "      <td>0.000000</td>\n",
       "      <td>0.000000</td>\n",
       "      <td>1.000000</td>\n",
       "      <td>371.050000</td>\n",
       "    </tr>\n",
       "    <tr>\n",
       "      <th>25%</th>\n",
       "      <td>1.563019e+07</td>\n",
       "      <td>579.500000</td>\n",
       "      <td>32.000000</td>\n",
       "      <td>2.000000</td>\n",
       "      <td>0.000000</td>\n",
       "      <td>1.000000</td>\n",
       "      <td>50090.645000</td>\n",
       "    </tr>\n",
       "    <tr>\n",
       "      <th>50%</th>\n",
       "      <td>1.569275e+07</td>\n",
       "      <td>653.000000</td>\n",
       "      <td>37.000000</td>\n",
       "      <td>5.000000</td>\n",
       "      <td>99027.610000</td>\n",
       "      <td>1.000000</td>\n",
       "      <td>98820.390000</td>\n",
       "    </tr>\n",
       "    <tr>\n",
       "      <th>75%</th>\n",
       "      <td>1.575396e+07</td>\n",
       "      <td>721.000000</td>\n",
       "      <td>44.000000</td>\n",
       "      <td>8.000000</td>\n",
       "      <td>129500.955000</td>\n",
       "      <td>2.000000</td>\n",
       "      <td>146856.220000</td>\n",
       "    </tr>\n",
       "    <tr>\n",
       "      <th>max</th>\n",
       "      <td>1.581536e+07</td>\n",
       "      <td>850.000000</td>\n",
       "      <td>82.000000</td>\n",
       "      <td>10.000000</td>\n",
       "      <td>213146.200000</td>\n",
       "      <td>4.000000</td>\n",
       "      <td>199725.390000</td>\n",
       "    </tr>\n",
       "  </tbody>\n",
       "</table>\n",
       "</div>"
      ],
      "text/plain": [
       "        Customer_ID  Credit Score         Age      Tenure        Balance  \\\n",
       "count  9.790000e+02    979.000000  979.000000  979.000000     979.000000   \n",
       "mean   1.569225e+07    648.372829   39.111338    5.084780   78174.555312   \n",
       "std    7.223189e+04     97.922578   10.290507    2.929639   62847.279285   \n",
       "min    1.556609e+07    376.000000   18.000000    0.000000       0.000000   \n",
       "25%    1.563019e+07    579.500000   32.000000    2.000000       0.000000   \n",
       "50%    1.569275e+07    653.000000   37.000000    5.000000   99027.610000   \n",
       "75%    1.575396e+07    721.000000   44.000000    8.000000  129500.955000   \n",
       "max    1.581536e+07    850.000000   82.000000   10.000000  213146.200000   \n",
       "\n",
       "       NumOfProducts  Estimated Salary  \n",
       "count     979.000000        979.000000  \n",
       "mean        1.518897      99072.619871  \n",
       "std         0.572370      57220.874890  \n",
       "min         1.000000        371.050000  \n",
       "25%         1.000000      50090.645000  \n",
       "50%         1.000000      98820.390000  \n",
       "75%         2.000000     146856.220000  \n",
       "max         4.000000     199725.390000  "
      ]
     },
     "execution_count": 134,
     "metadata": {},
     "output_type": "execute_result"
    }
   ],
   "source": [
    "bank.describe()"
   ]
  },
  {
   "cell_type": "markdown",
   "id": "25e48068-9457-49fe-9d23-68bc84ef6998",
   "metadata": {},
   "source": [
    "Minimum age is now 18."
   ]
  },
  {
   "cell_type": "markdown",
   "id": "f195a1ae-795c-42e8-9084-13ff9d325275",
   "metadata": {},
   "source": [
    "## 6. Check shape, structure and basic descriptive statistics on after updates"
   ]
  },
  {
   "cell_type": "code",
   "execution_count": 137,
   "id": "4196266a-0262-408f-95c7-3d725c6e1305",
   "metadata": {},
   "outputs": [
    {
     "data": {
      "text/plain": [
       "(979, 13)"
      ]
     },
     "execution_count": 137,
     "metadata": {},
     "output_type": "execute_result"
    }
   ],
   "source": [
    "bank.shape"
   ]
  },
  {
   "cell_type": "code",
   "execution_count": 139,
   "id": "cc31ba35-5788-4aeb-a9a0-33eb1083741f",
   "metadata": {},
   "outputs": [
    {
     "data": {
      "text/html": [
       "<div>\n",
       "<style scoped>\n",
       "    .dataframe tbody tr th:only-of-type {\n",
       "        vertical-align: middle;\n",
       "    }\n",
       "\n",
       "    .dataframe tbody tr th {\n",
       "        vertical-align: top;\n",
       "    }\n",
       "\n",
       "    .dataframe thead th {\n",
       "        text-align: right;\n",
       "    }\n",
       "</style>\n",
       "<table border=\"1\" class=\"dataframe\">\n",
       "  <thead>\n",
       "    <tr style=\"text-align: right;\">\n",
       "      <th></th>\n",
       "      <th>Customer_ID</th>\n",
       "      <th>Last_Name</th>\n",
       "      <th>Credit Score</th>\n",
       "      <th>Country</th>\n",
       "      <th>Gender</th>\n",
       "      <th>Age</th>\n",
       "      <th>Tenure</th>\n",
       "      <th>Balance</th>\n",
       "      <th>NumOfProducts</th>\n",
       "      <th>HasCrCard?</th>\n",
       "      <th>IsActiveMember</th>\n",
       "      <th>Estimated Salary</th>\n",
       "      <th>ExitedFromBank?</th>\n",
       "    </tr>\n",
       "  </thead>\n",
       "  <tbody>\n",
       "    <tr>\n",
       "      <th>0</th>\n",
       "      <td>15634602</td>\n",
       "      <td>Hargrave</td>\n",
       "      <td>619</td>\n",
       "      <td>France</td>\n",
       "      <td>Female</td>\n",
       "      <td>42</td>\n",
       "      <td>2</td>\n",
       "      <td>0.00</td>\n",
       "      <td>1</td>\n",
       "      <td>True</td>\n",
       "      <td>True</td>\n",
       "      <td>101348.88</td>\n",
       "      <td>True</td>\n",
       "    </tr>\n",
       "    <tr>\n",
       "      <th>1</th>\n",
       "      <td>15647311</td>\n",
       "      <td>Hill</td>\n",
       "      <td>608</td>\n",
       "      <td>Spain</td>\n",
       "      <td>Female</td>\n",
       "      <td>41</td>\n",
       "      <td>1</td>\n",
       "      <td>83807.86</td>\n",
       "      <td>1</td>\n",
       "      <td>False</td>\n",
       "      <td>True</td>\n",
       "      <td>112542.58</td>\n",
       "      <td>False</td>\n",
       "    </tr>\n",
       "    <tr>\n",
       "      <th>2</th>\n",
       "      <td>15619304</td>\n",
       "      <td>Onio</td>\n",
       "      <td>502</td>\n",
       "      <td>France</td>\n",
       "      <td>Female</td>\n",
       "      <td>42</td>\n",
       "      <td>8</td>\n",
       "      <td>159660.80</td>\n",
       "      <td>3</td>\n",
       "      <td>True</td>\n",
       "      <td>False</td>\n",
       "      <td>113931.57</td>\n",
       "      <td>True</td>\n",
       "    </tr>\n",
       "    <tr>\n",
       "      <th>3</th>\n",
       "      <td>15701354</td>\n",
       "      <td>Boni</td>\n",
       "      <td>699</td>\n",
       "      <td>France</td>\n",
       "      <td>Female</td>\n",
       "      <td>39</td>\n",
       "      <td>1</td>\n",
       "      <td>0.00</td>\n",
       "      <td>2</td>\n",
       "      <td>False</td>\n",
       "      <td>False</td>\n",
       "      <td>93826.63</td>\n",
       "      <td>False</td>\n",
       "    </tr>\n",
       "    <tr>\n",
       "      <th>4</th>\n",
       "      <td>15737888</td>\n",
       "      <td>Mitchell</td>\n",
       "      <td>850</td>\n",
       "      <td>Spain</td>\n",
       "      <td>Female</td>\n",
       "      <td>43</td>\n",
       "      <td>2</td>\n",
       "      <td>125510.82</td>\n",
       "      <td>1</td>\n",
       "      <td>True</td>\n",
       "      <td>True</td>\n",
       "      <td>79084.10</td>\n",
       "      <td>False</td>\n",
       "    </tr>\n",
       "  </tbody>\n",
       "</table>\n",
       "</div>"
      ],
      "text/plain": [
       "   Customer_ID Last_Name  Credit Score Country  Gender  Age  Tenure  \\\n",
       "0     15634602  Hargrave           619  France  Female   42       2   \n",
       "1     15647311      Hill           608   Spain  Female   41       1   \n",
       "2     15619304      Onio           502  France  Female   42       8   \n",
       "3     15701354      Boni           699  France  Female   39       1   \n",
       "4     15737888  Mitchell           850   Spain  Female   43       2   \n",
       "\n",
       "     Balance  NumOfProducts  HasCrCard?  IsActiveMember  Estimated Salary  \\\n",
       "0       0.00              1        True            True         101348.88   \n",
       "1   83807.86              1       False            True         112542.58   \n",
       "2  159660.80              3        True           False         113931.57   \n",
       "3       0.00              2       False           False          93826.63   \n",
       "4  125510.82              1        True            True          79084.10   \n",
       "\n",
       "   ExitedFromBank?  \n",
       "0             True  \n",
       "1            False  \n",
       "2             True  \n",
       "3            False  \n",
       "4            False  "
      ]
     },
     "execution_count": 139,
     "metadata": {},
     "output_type": "execute_result"
    }
   ],
   "source": [
    "bank.head()"
   ]
  },
  {
   "cell_type": "code",
   "execution_count": 141,
   "id": "8ad7c0b2-d6c0-4f94-bf98-98538c67b2ba",
   "metadata": {},
   "outputs": [
    {
     "data": {
      "text/html": [
       "<div>\n",
       "<style scoped>\n",
       "    .dataframe tbody tr th:only-of-type {\n",
       "        vertical-align: middle;\n",
       "    }\n",
       "\n",
       "    .dataframe tbody tr th {\n",
       "        vertical-align: top;\n",
       "    }\n",
       "\n",
       "    .dataframe thead th {\n",
       "        text-align: right;\n",
       "    }\n",
       "</style>\n",
       "<table border=\"1\" class=\"dataframe\">\n",
       "  <thead>\n",
       "    <tr style=\"text-align: right;\">\n",
       "      <th></th>\n",
       "      <th>Customer_ID</th>\n",
       "      <th>Credit Score</th>\n",
       "      <th>Age</th>\n",
       "      <th>Tenure</th>\n",
       "      <th>Balance</th>\n",
       "      <th>NumOfProducts</th>\n",
       "      <th>Estimated Salary</th>\n",
       "    </tr>\n",
       "  </thead>\n",
       "  <tbody>\n",
       "    <tr>\n",
       "      <th>count</th>\n",
       "      <td>9.790000e+02</td>\n",
       "      <td>979.000000</td>\n",
       "      <td>979.000000</td>\n",
       "      <td>979.000000</td>\n",
       "      <td>979.000000</td>\n",
       "      <td>979.000000</td>\n",
       "      <td>979.000000</td>\n",
       "    </tr>\n",
       "    <tr>\n",
       "      <th>mean</th>\n",
       "      <td>1.569225e+07</td>\n",
       "      <td>648.372829</td>\n",
       "      <td>39.111338</td>\n",
       "      <td>5.084780</td>\n",
       "      <td>78174.555312</td>\n",
       "      <td>1.518897</td>\n",
       "      <td>99072.619871</td>\n",
       "    </tr>\n",
       "    <tr>\n",
       "      <th>std</th>\n",
       "      <td>7.223189e+04</td>\n",
       "      <td>97.922578</td>\n",
       "      <td>10.290507</td>\n",
       "      <td>2.929639</td>\n",
       "      <td>62847.279285</td>\n",
       "      <td>0.572370</td>\n",
       "      <td>57220.874890</td>\n",
       "    </tr>\n",
       "    <tr>\n",
       "      <th>min</th>\n",
       "      <td>1.556609e+07</td>\n",
       "      <td>376.000000</td>\n",
       "      <td>18.000000</td>\n",
       "      <td>0.000000</td>\n",
       "      <td>0.000000</td>\n",
       "      <td>1.000000</td>\n",
       "      <td>371.050000</td>\n",
       "    </tr>\n",
       "    <tr>\n",
       "      <th>25%</th>\n",
       "      <td>1.563019e+07</td>\n",
       "      <td>579.500000</td>\n",
       "      <td>32.000000</td>\n",
       "      <td>2.000000</td>\n",
       "      <td>0.000000</td>\n",
       "      <td>1.000000</td>\n",
       "      <td>50090.645000</td>\n",
       "    </tr>\n",
       "    <tr>\n",
       "      <th>50%</th>\n",
       "      <td>1.569275e+07</td>\n",
       "      <td>653.000000</td>\n",
       "      <td>37.000000</td>\n",
       "      <td>5.000000</td>\n",
       "      <td>99027.610000</td>\n",
       "      <td>1.000000</td>\n",
       "      <td>98820.390000</td>\n",
       "    </tr>\n",
       "    <tr>\n",
       "      <th>75%</th>\n",
       "      <td>1.575396e+07</td>\n",
       "      <td>721.000000</td>\n",
       "      <td>44.000000</td>\n",
       "      <td>8.000000</td>\n",
       "      <td>129500.955000</td>\n",
       "      <td>2.000000</td>\n",
       "      <td>146856.220000</td>\n",
       "    </tr>\n",
       "    <tr>\n",
       "      <th>max</th>\n",
       "      <td>1.581536e+07</td>\n",
       "      <td>850.000000</td>\n",
       "      <td>82.000000</td>\n",
       "      <td>10.000000</td>\n",
       "      <td>213146.200000</td>\n",
       "      <td>4.000000</td>\n",
       "      <td>199725.390000</td>\n",
       "    </tr>\n",
       "  </tbody>\n",
       "</table>\n",
       "</div>"
      ],
      "text/plain": [
       "        Customer_ID  Credit Score         Age      Tenure        Balance  \\\n",
       "count  9.790000e+02    979.000000  979.000000  979.000000     979.000000   \n",
       "mean   1.569225e+07    648.372829   39.111338    5.084780   78174.555312   \n",
       "std    7.223189e+04     97.922578   10.290507    2.929639   62847.279285   \n",
       "min    1.556609e+07    376.000000   18.000000    0.000000       0.000000   \n",
       "25%    1.563019e+07    579.500000   32.000000    2.000000       0.000000   \n",
       "50%    1.569275e+07    653.000000   37.000000    5.000000   99027.610000   \n",
       "75%    1.575396e+07    721.000000   44.000000    8.000000  129500.955000   \n",
       "max    1.581536e+07    850.000000   82.000000   10.000000  213146.200000   \n",
       "\n",
       "       NumOfProducts  Estimated Salary  \n",
       "count     979.000000        979.000000  \n",
       "mean        1.518897      99072.619871  \n",
       "std         0.572370      57220.874890  \n",
       "min         1.000000        371.050000  \n",
       "25%         1.000000      50090.645000  \n",
       "50%         1.000000      98820.390000  \n",
       "75%         2.000000     146856.220000  \n",
       "max         4.000000     199725.390000  "
      ]
     },
     "execution_count": 141,
     "metadata": {},
     "output_type": "execute_result"
    }
   ],
   "source": [
    "bank.describe()"
   ]
  },
  {
   "cell_type": "markdown",
   "id": "dc978e67-0992-46f8-af5d-ea20d9f90ace",
   "metadata": {},
   "source": [
    "## 7. Export data"
   ]
  },
  {
   "cell_type": "code",
   "execution_count": 144,
   "id": "fcfa8811-d06f-4a75-857b-78cb87b7258a",
   "metadata": {},
   "outputs": [],
   "source": [
    "# Export data\n",
    "bank.to_csv(os.path.join(path, '02 Data', 'Prepared Data', 'PigEBank_cleaned.csv'), index=False)"
   ]
  },
  {
   "cell_type": "code",
   "execution_count": null,
   "id": "72f8c03b-2778-4b65-8681-602cb6969905",
   "metadata": {},
   "outputs": [],
   "source": []
  },
  {
   "cell_type": "code",
   "execution_count": null,
   "id": "1e1f5aa4-b845-401e-bb9e-c636cefc44c7",
   "metadata": {},
   "outputs": [],
   "source": []
  }
 ],
 "metadata": {
  "kernelspec": {
   "display_name": "Python 3 (ipykernel)",
   "language": "python",
   "name": "python3"
  },
  "language_info": {
   "codemirror_mode": {
    "name": "ipython",
    "version": 3
   },
   "file_extension": ".py",
   "mimetype": "text/x-python",
   "name": "python",
   "nbconvert_exporter": "python",
   "pygments_lexer": "ipython3",
   "version": "3.12.4"
  }
 },
 "nbformat": 4,
 "nbformat_minor": 5
}
