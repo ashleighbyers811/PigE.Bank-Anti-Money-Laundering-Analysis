{
 "cells": [
  {
   "cell_type": "markdown",
   "id": "b7fb1596-fafe-48a3-899e-537a1d8a7ff6",
   "metadata": {},
   "source": [
    "# PigEBank_Splitting Data by Current/Former Clients, and Calculating Summary Stats"
   ]
  },
  {
   "cell_type": "markdown",
   "id": "23ae5af8-3701-4c29-b69d-4dd68c45aa91",
   "metadata": {},
   "source": [
    "# Table of Contents\n",
    "\n",
    "##### 1. Import libraries and data\n",
    "##### 2. 2. Check shape and structure of data\n",
    "##### 3. Split data into current and former client groups\n",
    "    3.1 Current clients\n",
    "    3.2 Former clients\n",
    "##### 4. Basic statistics on each group\n",
    "    4.1 Current Clients\n",
    "    4.2 Former Clients\n",
    "    4.3 All Clients\n",
    "##### 5. Export data"
   ]
  },
  {
   "cell_type": "markdown",
   "id": "a569aa68-bbbc-4023-84a2-22aaaf41b4e8",
   "metadata": {},
   "source": [
    "## 1. Import libraries and data"
   ]
  },
  {
   "cell_type": "code",
   "execution_count": 4,
   "id": "4859d84f-19b1-44b3-8aa4-1cf98faf161c",
   "metadata": {},
   "outputs": [],
   "source": [
    "# Import libraries\n",
    "\n",
    "import pandas as pd\n",
    "import numpy as np\n",
    "import os\n",
    "import matplotlib.pyplot as plt\n",
    "import seaborn as sns"
   ]
  },
  {
   "cell_type": "code",
   "execution_count": 5,
   "id": "1b34bc7c-5cc1-4cb5-962d-7362e27546e5",
   "metadata": {},
   "outputs": [],
   "source": [
    "# Import data\n",
    "\n",
    "# Set path\n",
    "path = r'C:\\Users\\ashle\\Documents\\08-2024 Pig E. Bank Analysis'\n",
    "\n",
    "# Import data\n",
    "bank = pd.read_csv(os.path.join(path, '02 Data', 'Prepared Data', 'PigEBank_cleaned.csv'), index_col = False)"
   ]
  },
  {
   "cell_type": "markdown",
   "id": "d2479d09-0809-459b-9bad-b6eabe11dbc2",
   "metadata": {},
   "source": [
    "## 2. Check shape and structure of data"
   ]
  },
  {
   "cell_type": "code",
   "execution_count": 7,
   "id": "2a158281-cc74-45a5-b43b-ab9043b79a5c",
   "metadata": {},
   "outputs": [
    {
     "data": {
      "text/plain": [
       "(979, 13)"
      ]
     },
     "execution_count": 7,
     "metadata": {},
     "output_type": "execute_result"
    }
   ],
   "source": [
    "bank.shape"
   ]
  },
  {
   "cell_type": "code",
   "execution_count": 8,
   "id": "a279b69d-73b7-4c82-a2e7-80ec55d4617f",
   "metadata": {},
   "outputs": [
    {
     "data": {
      "text/html": [
       "<div>\n",
       "<style scoped>\n",
       "    .dataframe tbody tr th:only-of-type {\n",
       "        vertical-align: middle;\n",
       "    }\n",
       "\n",
       "    .dataframe tbody tr th {\n",
       "        vertical-align: top;\n",
       "    }\n",
       "\n",
       "    .dataframe thead th {\n",
       "        text-align: right;\n",
       "    }\n",
       "</style>\n",
       "<table border=\"1\" class=\"dataframe\">\n",
       "  <thead>\n",
       "    <tr style=\"text-align: right;\">\n",
       "      <th></th>\n",
       "      <th>Customer_ID</th>\n",
       "      <th>Last_Name</th>\n",
       "      <th>Credit Score</th>\n",
       "      <th>Country</th>\n",
       "      <th>Gender</th>\n",
       "      <th>Age</th>\n",
       "      <th>Tenure</th>\n",
       "      <th>Balance</th>\n",
       "      <th>NumOfProducts</th>\n",
       "      <th>HasCrCard?</th>\n",
       "      <th>IsActiveMember</th>\n",
       "      <th>Estimated Salary</th>\n",
       "      <th>ExitedFromBank?</th>\n",
       "    </tr>\n",
       "  </thead>\n",
       "  <tbody>\n",
       "    <tr>\n",
       "      <th>0</th>\n",
       "      <td>15634602</td>\n",
       "      <td>Hargrave</td>\n",
       "      <td>619</td>\n",
       "      <td>France</td>\n",
       "      <td>Female</td>\n",
       "      <td>42</td>\n",
       "      <td>2</td>\n",
       "      <td>0.00</td>\n",
       "      <td>1</td>\n",
       "      <td>True</td>\n",
       "      <td>True</td>\n",
       "      <td>101348.88</td>\n",
       "      <td>True</td>\n",
       "    </tr>\n",
       "    <tr>\n",
       "      <th>1</th>\n",
       "      <td>15647311</td>\n",
       "      <td>Hill</td>\n",
       "      <td>608</td>\n",
       "      <td>Spain</td>\n",
       "      <td>Female</td>\n",
       "      <td>41</td>\n",
       "      <td>1</td>\n",
       "      <td>83807.86</td>\n",
       "      <td>1</td>\n",
       "      <td>False</td>\n",
       "      <td>True</td>\n",
       "      <td>112542.58</td>\n",
       "      <td>False</td>\n",
       "    </tr>\n",
       "    <tr>\n",
       "      <th>2</th>\n",
       "      <td>15619304</td>\n",
       "      <td>Onio</td>\n",
       "      <td>502</td>\n",
       "      <td>France</td>\n",
       "      <td>Female</td>\n",
       "      <td>42</td>\n",
       "      <td>8</td>\n",
       "      <td>159660.80</td>\n",
       "      <td>3</td>\n",
       "      <td>True</td>\n",
       "      <td>False</td>\n",
       "      <td>113931.57</td>\n",
       "      <td>True</td>\n",
       "    </tr>\n",
       "    <tr>\n",
       "      <th>3</th>\n",
       "      <td>15701354</td>\n",
       "      <td>Boni</td>\n",
       "      <td>699</td>\n",
       "      <td>France</td>\n",
       "      <td>Female</td>\n",
       "      <td>39</td>\n",
       "      <td>1</td>\n",
       "      <td>0.00</td>\n",
       "      <td>2</td>\n",
       "      <td>False</td>\n",
       "      <td>False</td>\n",
       "      <td>93826.63</td>\n",
       "      <td>False</td>\n",
       "    </tr>\n",
       "    <tr>\n",
       "      <th>4</th>\n",
       "      <td>15737888</td>\n",
       "      <td>Mitchell</td>\n",
       "      <td>850</td>\n",
       "      <td>Spain</td>\n",
       "      <td>Female</td>\n",
       "      <td>43</td>\n",
       "      <td>2</td>\n",
       "      <td>125510.82</td>\n",
       "      <td>1</td>\n",
       "      <td>True</td>\n",
       "      <td>True</td>\n",
       "      <td>79084.10</td>\n",
       "      <td>False</td>\n",
       "    </tr>\n",
       "  </tbody>\n",
       "</table>\n",
       "</div>"
      ],
      "text/plain": [
       "   Customer_ID Last_Name  Credit Score Country  Gender  Age  Tenure  \\\n",
       "0     15634602  Hargrave           619  France  Female   42       2   \n",
       "1     15647311      Hill           608   Spain  Female   41       1   \n",
       "2     15619304      Onio           502  France  Female   42       8   \n",
       "3     15701354      Boni           699  France  Female   39       1   \n",
       "4     15737888  Mitchell           850   Spain  Female   43       2   \n",
       "\n",
       "     Balance  NumOfProducts  HasCrCard?  IsActiveMember  Estimated Salary  \\\n",
       "0       0.00              1        True            True         101348.88   \n",
       "1   83807.86              1       False            True         112542.58   \n",
       "2  159660.80              3        True           False         113931.57   \n",
       "3       0.00              2       False           False          93826.63   \n",
       "4  125510.82              1        True            True          79084.10   \n",
       "\n",
       "   ExitedFromBank?  \n",
       "0             True  \n",
       "1            False  \n",
       "2             True  \n",
       "3            False  \n",
       "4            False  "
      ]
     },
     "execution_count": 8,
     "metadata": {},
     "output_type": "execute_result"
    }
   ],
   "source": [
    "bank.head()"
   ]
  },
  {
   "cell_type": "markdown",
   "id": "91186217-65c7-4aca-b986-25b969c9ef02",
   "metadata": {},
   "source": [
    "## 3. Split data into current and former client groups"
   ]
  },
  {
   "cell_type": "markdown",
   "id": "ff12a162-e69c-4558-b0ce-e7f951220aaf",
   "metadata": {},
   "source": [
    "### 3.1 Current clients"
   ]
  },
  {
   "cell_type": "code",
   "execution_count": 11,
   "id": "ee57e2a7-185b-49e2-a40f-8b9a776303ac",
   "metadata": {},
   "outputs": [],
   "source": [
    "# Create subset for current clients\n",
    "current_clients = bank[bank['ExitedFromBank?'] == False]"
   ]
  },
  {
   "cell_type": "markdown",
   "id": "922c4417-2993-4d7e-a3a7-bdaf05fb5c26",
   "metadata": {},
   "source": [
    "### 3.2 Former clients"
   ]
  },
  {
   "cell_type": "code",
   "execution_count": 13,
   "id": "2786d93d-aa92-40ef-8e83-2b3e7b1ce558",
   "metadata": {},
   "outputs": [],
   "source": [
    "# Create subset for former clients (ie clients who have left the bank)\n",
    "former_clients = bank[bank['ExitedFromBank?'] == True]"
   ]
  },
  {
   "cell_type": "markdown",
   "id": "b954f0eb-22c6-4ab4-88f2-d7b0f8b00c11",
   "metadata": {},
   "source": [
    "## 4. Basic statistics on each group"
   ]
  },
  {
   "cell_type": "markdown",
   "id": "542b67fb-b48a-48da-85d9-1ade1d10f8fe",
   "metadata": {},
   "source": [
    "### 4.1 Current Clients"
   ]
  },
  {
   "cell_type": "code",
   "execution_count": 16,
   "id": "7c2c7aad-2cc1-474d-b2c4-8cd7748a476f",
   "metadata": {},
   "outputs": [
    {
     "data": {
      "text/html": [
       "<div>\n",
       "<style scoped>\n",
       "    .dataframe tbody tr th:only-of-type {\n",
       "        vertical-align: middle;\n",
       "    }\n",
       "\n",
       "    .dataframe tbody tr th {\n",
       "        vertical-align: top;\n",
       "    }\n",
       "\n",
       "    .dataframe thead th {\n",
       "        text-align: right;\n",
       "    }\n",
       "</style>\n",
       "<table border=\"1\" class=\"dataframe\">\n",
       "  <thead>\n",
       "    <tr style=\"text-align: right;\">\n",
       "      <th></th>\n",
       "      <th>Customer_ID</th>\n",
       "      <th>Credit Score</th>\n",
       "      <th>Age</th>\n",
       "      <th>Tenure</th>\n",
       "      <th>Balance</th>\n",
       "      <th>NumOfProducts</th>\n",
       "      <th>Estimated Salary</th>\n",
       "    </tr>\n",
       "  </thead>\n",
       "  <tbody>\n",
       "    <tr>\n",
       "      <th>count</th>\n",
       "      <td>7.760000e+02</td>\n",
       "      <td>776.000000</td>\n",
       "      <td>776.000000</td>\n",
       "      <td>776.000000</td>\n",
       "      <td>776.000000</td>\n",
       "      <td>776.000000</td>\n",
       "      <td>776.000000</td>\n",
       "    </tr>\n",
       "    <tr>\n",
       "      <th>mean</th>\n",
       "      <td>1.569267e+07</td>\n",
       "      <td>651.478093</td>\n",
       "      <td>37.507732</td>\n",
       "      <td>5.179124</td>\n",
       "      <td>75013.781572</td>\n",
       "      <td>1.536082</td>\n",
       "      <td>99470.467041</td>\n",
       "    </tr>\n",
       "    <tr>\n",
       "      <th>std</th>\n",
       "      <td>7.216394e+04</td>\n",
       "      <td>97.232794</td>\n",
       "      <td>9.866591</td>\n",
       "      <td>2.926652</td>\n",
       "      <td>62850.595116</td>\n",
       "      <td>0.511783</td>\n",
       "      <td>56665.945020</td>\n",
       "    </tr>\n",
       "    <tr>\n",
       "      <th>min</th>\n",
       "      <td>1.556609e+07</td>\n",
       "      <td>411.000000</td>\n",
       "      <td>18.000000</td>\n",
       "      <td>0.000000</td>\n",
       "      <td>0.000000</td>\n",
       "      <td>1.000000</td>\n",
       "      <td>371.050000</td>\n",
       "    </tr>\n",
       "    <tr>\n",
       "      <th>25%</th>\n",
       "      <td>1.563149e+07</td>\n",
       "      <td>583.000000</td>\n",
       "      <td>31.000000</td>\n",
       "      <td>3.000000</td>\n",
       "      <td>0.000000</td>\n",
       "      <td>1.000000</td>\n",
       "      <td>53004.630000</td>\n",
       "    </tr>\n",
       "    <tr>\n",
       "      <th>50%</th>\n",
       "      <td>1.569272e+07</td>\n",
       "      <td>657.000000</td>\n",
       "      <td>36.000000</td>\n",
       "      <td>5.000000</td>\n",
       "      <td>93708.575000</td>\n",
       "      <td>2.000000</td>\n",
       "      <td>98621.608497</td>\n",
       "    </tr>\n",
       "    <tr>\n",
       "      <th>75%</th>\n",
       "      <td>1.575409e+07</td>\n",
       "      <td>722.250000</td>\n",
       "      <td>42.000000</td>\n",
       "      <td>8.000000</td>\n",
       "      <td>127871.442500</td>\n",
       "      <td>2.000000</td>\n",
       "      <td>146359.295000</td>\n",
       "    </tr>\n",
       "    <tr>\n",
       "      <th>max</th>\n",
       "      <td>1.581536e+07</td>\n",
       "      <td>850.000000</td>\n",
       "      <td>82.000000</td>\n",
       "      <td>10.000000</td>\n",
       "      <td>197041.800000</td>\n",
       "      <td>3.000000</td>\n",
       "      <td>199661.500000</td>\n",
       "    </tr>\n",
       "  </tbody>\n",
       "</table>\n",
       "</div>"
      ],
      "text/plain": [
       "        Customer_ID  Credit Score         Age      Tenure        Balance  \\\n",
       "count  7.760000e+02    776.000000  776.000000  776.000000     776.000000   \n",
       "mean   1.569267e+07    651.478093   37.507732    5.179124   75013.781572   \n",
       "std    7.216394e+04     97.232794    9.866591    2.926652   62850.595116   \n",
       "min    1.556609e+07    411.000000   18.000000    0.000000       0.000000   \n",
       "25%    1.563149e+07    583.000000   31.000000    3.000000       0.000000   \n",
       "50%    1.569272e+07    657.000000   36.000000    5.000000   93708.575000   \n",
       "75%    1.575409e+07    722.250000   42.000000    8.000000  127871.442500   \n",
       "max    1.581536e+07    850.000000   82.000000   10.000000  197041.800000   \n",
       "\n",
       "       NumOfProducts  Estimated Salary  \n",
       "count     776.000000        776.000000  \n",
       "mean        1.536082      99470.467041  \n",
       "std         0.511783      56665.945020  \n",
       "min         1.000000        371.050000  \n",
       "25%         1.000000      53004.630000  \n",
       "50%         2.000000      98621.608497  \n",
       "75%         2.000000     146359.295000  \n",
       "max         3.000000     199661.500000  "
      ]
     },
     "execution_count": 16,
     "metadata": {},
     "output_type": "execute_result"
    }
   ],
   "source": [
    "current_clients.describe()"
   ]
  },
  {
   "cell_type": "code",
   "execution_count": 17,
   "id": "9009b6ce-565b-42e4-80ed-04efd362f8fe",
   "metadata": {},
   "outputs": [
    {
     "data": {
      "text/plain": [
       "0    850\n",
       "Name: Credit Score, dtype: int64"
      ]
     },
     "execution_count": 17,
     "metadata": {},
     "output_type": "execute_result"
    }
   ],
   "source": [
    "current_clients['Credit Score'].mode()"
   ]
  },
  {
   "cell_type": "code",
   "execution_count": 18,
   "id": "3089252a-37b7-43a3-9a13-5d1241fecba0",
   "metadata": {},
   "outputs": [
    {
     "data": {
      "text/plain": [
       "0    France\n",
       "Name: Country, dtype: object"
      ]
     },
     "execution_count": 18,
     "metadata": {},
     "output_type": "execute_result"
    }
   ],
   "source": [
    "current_clients['Country'].mode()"
   ]
  },
  {
   "cell_type": "code",
   "execution_count": 19,
   "id": "7f873351-19f6-45bc-82d3-8752aa18c377",
   "metadata": {},
   "outputs": [
    {
     "data": {
      "text/plain": [
       "0    Male\n",
       "Name: Gender, dtype: object"
      ]
     },
     "execution_count": 19,
     "metadata": {},
     "output_type": "execute_result"
    }
   ],
   "source": [
    "current_clients['Gender'].mode()"
   ]
  },
  {
   "cell_type": "code",
   "execution_count": 20,
   "id": "b3c6baf8-05e3-40b0-b1a9-3c97aec3c3bd",
   "metadata": {},
   "outputs": [
    {
     "data": {
      "text/plain": [
       "0    36\n",
       "Name: Age, dtype: int64"
      ]
     },
     "execution_count": 20,
     "metadata": {},
     "output_type": "execute_result"
    }
   ],
   "source": [
    "current_clients['Age'].mode()"
   ]
  },
  {
   "cell_type": "code",
   "execution_count": 21,
   "id": "ed34729b-2164-4bb6-8788-09f2c643ba80",
   "metadata": {},
   "outputs": [
    {
     "data": {
      "text/plain": [
       "0    8\n",
       "Name: Tenure, dtype: int64"
      ]
     },
     "execution_count": 21,
     "metadata": {},
     "output_type": "execute_result"
    }
   ],
   "source": [
    "current_clients['Tenure'].mode()"
   ]
  },
  {
   "cell_type": "code",
   "execution_count": 22,
   "id": "d28242f0-e30a-4ad4-a781-21550f298815",
   "metadata": {},
   "outputs": [
    {
     "data": {
      "text/plain": [
       "0    2\n",
       "Name: NumOfProducts, dtype: int64"
      ]
     },
     "execution_count": 22,
     "metadata": {},
     "output_type": "execute_result"
    }
   ],
   "source": [
    "current_clients['NumOfProducts'].mode()"
   ]
  },
  {
   "cell_type": "code",
   "execution_count": 23,
   "id": "c8689fe3-5ffc-429a-b2c9-80510c898aee",
   "metadata": {},
   "outputs": [
    {
     "data": {
      "text/plain": [
       "0    True\n",
       "Name: HasCrCard?, dtype: bool"
      ]
     },
     "execution_count": 23,
     "metadata": {},
     "output_type": "execute_result"
    }
   ],
   "source": [
    "current_clients['HasCrCard?'].mode()"
   ]
  },
  {
   "cell_type": "code",
   "execution_count": 24,
   "id": "04be085c-3f12-448b-8c0c-2a1355c758f6",
   "metadata": {},
   "outputs": [
    {
     "data": {
      "text/plain": [
       "0    True\n",
       "Name: IsActiveMember, dtype: bool"
      ]
     },
     "execution_count": 24,
     "metadata": {},
     "output_type": "execute_result"
    }
   ],
   "source": [
    "current_clients['IsActiveMember'].mode()"
   ]
  },
  {
   "cell_type": "code",
   "execution_count": 25,
   "id": "a9c215e2-713e-4a02-be96-91b445e842b7",
   "metadata": {},
   "outputs": [
    {
     "data": {
      "text/plain": [
       "0    0.0\n",
       "Name: Balance, dtype: float64"
      ]
     },
     "execution_count": 25,
     "metadata": {},
     "output_type": "execute_result"
    }
   ],
   "source": [
    "current_clients['Balance'].mode()"
   ]
  },
  {
   "cell_type": "code",
   "execution_count": 26,
   "id": "0f186d5e-f6ae-45ca-bbe2-378edadc86bf",
   "metadata": {},
   "outputs": [
    {
     "data": {
      "text/plain": [
       "0    98596.996994\n",
       "Name: Estimated Salary, dtype: float64"
      ]
     },
     "execution_count": 26,
     "metadata": {},
     "output_type": "execute_result"
    }
   ],
   "source": [
    "current_clients['Estimated Salary'].mode()"
   ]
  },
  {
   "cell_type": "code",
   "execution_count": 27,
   "id": "fdb520a2-f2c4-4da7-92f2-2f08d1773f11",
   "metadata": {},
   "outputs": [
    {
     "data": {
      "text/plain": [
       "(776, 13)"
      ]
     },
     "execution_count": 27,
     "metadata": {},
     "output_type": "execute_result"
    }
   ],
   "source": [
    "current_clients.shape"
   ]
  },
  {
   "cell_type": "markdown",
   "id": "03e8a68c-9b70-40f2-865e-c7e8e261e1ec",
   "metadata": {},
   "source": [
    "### 4.2 Former Clients"
   ]
  },
  {
   "cell_type": "code",
   "execution_count": 29,
   "id": "6222964f-b6a0-477a-86f4-66e409bea05f",
   "metadata": {},
   "outputs": [
    {
     "data": {
      "text/html": [
       "<div>\n",
       "<style scoped>\n",
       "    .dataframe tbody tr th:only-of-type {\n",
       "        vertical-align: middle;\n",
       "    }\n",
       "\n",
       "    .dataframe tbody tr th {\n",
       "        vertical-align: top;\n",
       "    }\n",
       "\n",
       "    .dataframe thead th {\n",
       "        text-align: right;\n",
       "    }\n",
       "</style>\n",
       "<table border=\"1\" class=\"dataframe\">\n",
       "  <thead>\n",
       "    <tr style=\"text-align: right;\">\n",
       "      <th></th>\n",
       "      <th>Customer_ID</th>\n",
       "      <th>Credit Score</th>\n",
       "      <th>Age</th>\n",
       "      <th>Tenure</th>\n",
       "      <th>Balance</th>\n",
       "      <th>NumOfProducts</th>\n",
       "      <th>Estimated Salary</th>\n",
       "    </tr>\n",
       "  </thead>\n",
       "  <tbody>\n",
       "    <tr>\n",
       "      <th>count</th>\n",
       "      <td>2.030000e+02</td>\n",
       "      <td>203.000000</td>\n",
       "      <td>203.000000</td>\n",
       "      <td>203.000000</td>\n",
       "      <td>203.000000</td>\n",
       "      <td>203.000000</td>\n",
       "      <td>203.000000</td>\n",
       "    </tr>\n",
       "    <tr>\n",
       "      <th>mean</th>\n",
       "      <td>1.569065e+07</td>\n",
       "      <td>636.502463</td>\n",
       "      <td>45.241379</td>\n",
       "      <td>4.724138</td>\n",
       "      <td>90257.118966</td>\n",
       "      <td>1.453202</td>\n",
       "      <td>97551.785369</td>\n",
       "    </tr>\n",
       "    <tr>\n",
       "      <th>std</th>\n",
       "      <td>7.264750e+04</td>\n",
       "      <td>99.870529</td>\n",
       "      <td>9.568713</td>\n",
       "      <td>2.920186</td>\n",
       "      <td>61503.206675</td>\n",
       "      <td>0.758795</td>\n",
       "      <td>59413.612107</td>\n",
       "    </tr>\n",
       "    <tr>\n",
       "      <th>min</th>\n",
       "      <td>1.556875e+07</td>\n",
       "      <td>376.000000</td>\n",
       "      <td>22.000000</td>\n",
       "      <td>0.000000</td>\n",
       "      <td>0.000000</td>\n",
       "      <td>1.000000</td>\n",
       "      <td>417.410000</td>\n",
       "    </tr>\n",
       "    <tr>\n",
       "      <th>25%</th>\n",
       "      <td>1.562815e+07</td>\n",
       "      <td>561.500000</td>\n",
       "      <td>39.000000</td>\n",
       "      <td>2.000000</td>\n",
       "      <td>0.000000</td>\n",
       "      <td>1.000000</td>\n",
       "      <td>45947.585000</td>\n",
       "    </tr>\n",
       "    <tr>\n",
       "      <th>50%</th>\n",
       "      <td>1.569275e+07</td>\n",
       "      <td>643.000000</td>\n",
       "      <td>45.000000</td>\n",
       "      <td>5.000000</td>\n",
       "      <td>112822.260000</td>\n",
       "      <td>1.000000</td>\n",
       "      <td>101300.940000</td>\n",
       "    </tr>\n",
       "    <tr>\n",
       "      <th>75%</th>\n",
       "      <td>1.575271e+07</td>\n",
       "      <td>714.500000</td>\n",
       "      <td>51.000000</td>\n",
       "      <td>7.000000</td>\n",
       "      <td>133724.165000</td>\n",
       "      <td>2.000000</td>\n",
       "      <td>148779.825000</td>\n",
       "    </tr>\n",
       "    <tr>\n",
       "      <th>max</th>\n",
       "      <td>1.581176e+07</td>\n",
       "      <td>850.000000</td>\n",
       "      <td>69.000000</td>\n",
       "      <td>10.000000</td>\n",
       "      <td>213146.200000</td>\n",
       "      <td>4.000000</td>\n",
       "      <td>199725.390000</td>\n",
       "    </tr>\n",
       "  </tbody>\n",
       "</table>\n",
       "</div>"
      ],
      "text/plain": [
       "        Customer_ID  Credit Score         Age      Tenure        Balance  \\\n",
       "count  2.030000e+02    203.000000  203.000000  203.000000     203.000000   \n",
       "mean   1.569065e+07    636.502463   45.241379    4.724138   90257.118966   \n",
       "std    7.264750e+04     99.870529    9.568713    2.920186   61503.206675   \n",
       "min    1.556875e+07    376.000000   22.000000    0.000000       0.000000   \n",
       "25%    1.562815e+07    561.500000   39.000000    2.000000       0.000000   \n",
       "50%    1.569275e+07    643.000000   45.000000    5.000000  112822.260000   \n",
       "75%    1.575271e+07    714.500000   51.000000    7.000000  133724.165000   \n",
       "max    1.581176e+07    850.000000   69.000000   10.000000  213146.200000   \n",
       "\n",
       "       NumOfProducts  Estimated Salary  \n",
       "count     203.000000        203.000000  \n",
       "mean        1.453202      97551.785369  \n",
       "std         0.758795      59413.612107  \n",
       "min         1.000000        417.410000  \n",
       "25%         1.000000      45947.585000  \n",
       "50%         1.000000     101300.940000  \n",
       "75%         2.000000     148779.825000  \n",
       "max         4.000000     199725.390000  "
      ]
     },
     "execution_count": 29,
     "metadata": {},
     "output_type": "execute_result"
    }
   ],
   "source": [
    "former_clients.describe()"
   ]
  },
  {
   "cell_type": "code",
   "execution_count": 30,
   "id": "61b7932a-749a-40e7-b91e-d1aaefb716e5",
   "metadata": {},
   "outputs": [
    {
     "data": {
      "text/plain": [
       "0    643\n",
       "1    648\n",
       "2    667\n",
       "3    683\n",
       "4    750\n",
       "5    850\n",
       "Name: Credit Score, dtype: int64"
      ]
     },
     "execution_count": 30,
     "metadata": {},
     "output_type": "execute_result"
    }
   ],
   "source": [
    "former_clients['Credit Score'].mode()"
   ]
  },
  {
   "cell_type": "code",
   "execution_count": 31,
   "id": "d93f1fc0-4856-4cea-a4c9-651555de48fe",
   "metadata": {},
   "outputs": [
    {
     "data": {
      "text/plain": [
       "0    France\n",
       "Name: Country, dtype: object"
      ]
     },
     "execution_count": 31,
     "metadata": {},
     "output_type": "execute_result"
    }
   ],
   "source": [
    "former_clients['Country'].mode()"
   ]
  },
  {
   "cell_type": "code",
   "execution_count": 32,
   "id": "47f9cdbc-145d-4dd5-bc20-0439c4ded053",
   "metadata": {},
   "outputs": [
    {
     "data": {
      "text/plain": [
       "0    Female\n",
       "Name: Gender, dtype: object"
      ]
     },
     "execution_count": 32,
     "metadata": {},
     "output_type": "execute_result"
    }
   ],
   "source": [
    "former_clients['Gender'].mode()"
   ]
  },
  {
   "cell_type": "code",
   "execution_count": 33,
   "id": "9573de2d-276f-4296-bbe3-c8780bd30d9c",
   "metadata": {},
   "outputs": [
    {
     "data": {
      "text/plain": [
       "0    39\n",
       "Name: Age, dtype: int64"
      ]
     },
     "execution_count": 33,
     "metadata": {},
     "output_type": "execute_result"
    }
   ],
   "source": [
    "former_clients['Age'].mode()"
   ]
  },
  {
   "cell_type": "code",
   "execution_count": 34,
   "id": "4b591beb-5ac3-41da-91e3-df9c3568e9e2",
   "metadata": {},
   "outputs": [
    {
     "data": {
      "text/plain": [
       "0    1\n",
       "Name: Tenure, dtype: int64"
      ]
     },
     "execution_count": 34,
     "metadata": {},
     "output_type": "execute_result"
    }
   ],
   "source": [
    "former_clients['Tenure'].mode()"
   ]
  },
  {
   "cell_type": "code",
   "execution_count": 35,
   "id": "e300b4d6-f4c5-4faf-a6bb-01eefb4eadc4",
   "metadata": {},
   "outputs": [
    {
     "data": {
      "text/plain": [
       "0    0.0\n",
       "Name: Balance, dtype: float64"
      ]
     },
     "execution_count": 35,
     "metadata": {},
     "output_type": "execute_result"
    }
   ],
   "source": [
    "former_clients['Balance'].mode()"
   ]
  },
  {
   "cell_type": "code",
   "execution_count": 36,
   "id": "ec4972ca-fd2c-4d24-a4e4-817eb3a73ec3",
   "metadata": {},
   "outputs": [
    {
     "data": {
      "text/plain": [
       "0    1\n",
       "Name: NumOfProducts, dtype: int64"
      ]
     },
     "execution_count": 36,
     "metadata": {},
     "output_type": "execute_result"
    }
   ],
   "source": [
    "former_clients['NumOfProducts'].mode()"
   ]
  },
  {
   "cell_type": "code",
   "execution_count": 37,
   "id": "9b56edd7-ba1f-4bee-b4ee-3b0f598b8705",
   "metadata": {},
   "outputs": [
    {
     "data": {
      "text/plain": [
       "0    True\n",
       "Name: HasCrCard?, dtype: bool"
      ]
     },
     "execution_count": 37,
     "metadata": {},
     "output_type": "execute_result"
    }
   ],
   "source": [
    "former_clients['HasCrCard?'].mode()"
   ]
  },
  {
   "cell_type": "code",
   "execution_count": 38,
   "id": "e87f5df2-4bfb-4eff-af21-3497dc00fd2c",
   "metadata": {},
   "outputs": [
    {
     "data": {
      "text/plain": [
       "0    False\n",
       "Name: IsActiveMember, dtype: bool"
      ]
     },
     "execution_count": 38,
     "metadata": {},
     "output_type": "execute_result"
    }
   ],
   "source": [
    "former_clients['IsActiveMember'].mode()"
   ]
  },
  {
   "cell_type": "code",
   "execution_count": 39,
   "id": "65e88800-b2cf-4b4f-92aa-309ec23d5e21",
   "metadata": {},
   "outputs": [
    {
     "data": {
      "text/plain": [
       "0         417.41\n",
       "1        1643.11\n",
       "2        2079.20\n",
       "3        2319.96\n",
       "4        4861.72\n",
       "         ...    \n",
       "198    194998.34\n",
       "199    195635.30\n",
       "200    199273.98\n",
       "201    199304.74\n",
       "202    199725.39\n",
       "Name: Estimated Salary, Length: 203, dtype: float64"
      ]
     },
     "execution_count": 39,
     "metadata": {},
     "output_type": "execute_result"
    }
   ],
   "source": [
    "former_clients['Estimated Salary'].mode()"
   ]
  },
  {
   "cell_type": "code",
   "execution_count": 40,
   "id": "d47226c8-e11c-44c1-9d56-7d4c5271d8b6",
   "metadata": {},
   "outputs": [
    {
     "data": {
      "text/plain": [
       "(203, 13)"
      ]
     },
     "execution_count": 40,
     "metadata": {},
     "output_type": "execute_result"
    }
   ],
   "source": [
    "former_clients.shape"
   ]
  },
  {
   "cell_type": "markdown",
   "id": "4f9bffa1-b179-4ddb-a993-85e7727bffdc",
   "metadata": {},
   "source": [
    "### 4.3 All Clients"
   ]
  },
  {
   "cell_type": "code",
   "execution_count": 42,
   "id": "1b686a1b-e7bf-4a27-8fdd-22e7f74a00ab",
   "metadata": {},
   "outputs": [
    {
     "data": {
      "text/html": [
       "<div>\n",
       "<style scoped>\n",
       "    .dataframe tbody tr th:only-of-type {\n",
       "        vertical-align: middle;\n",
       "    }\n",
       "\n",
       "    .dataframe tbody tr th {\n",
       "        vertical-align: top;\n",
       "    }\n",
       "\n",
       "    .dataframe thead th {\n",
       "        text-align: right;\n",
       "    }\n",
       "</style>\n",
       "<table border=\"1\" class=\"dataframe\">\n",
       "  <thead>\n",
       "    <tr style=\"text-align: right;\">\n",
       "      <th></th>\n",
       "      <th>Customer_ID</th>\n",
       "      <th>Credit Score</th>\n",
       "      <th>Age</th>\n",
       "      <th>Tenure</th>\n",
       "      <th>Balance</th>\n",
       "      <th>NumOfProducts</th>\n",
       "      <th>Estimated Salary</th>\n",
       "    </tr>\n",
       "  </thead>\n",
       "  <tbody>\n",
       "    <tr>\n",
       "      <th>count</th>\n",
       "      <td>9.790000e+02</td>\n",
       "      <td>979.000000</td>\n",
       "      <td>979.000000</td>\n",
       "      <td>979.000000</td>\n",
       "      <td>979.000000</td>\n",
       "      <td>979.000000</td>\n",
       "      <td>979.000000</td>\n",
       "    </tr>\n",
       "    <tr>\n",
       "      <th>mean</th>\n",
       "      <td>1.569225e+07</td>\n",
       "      <td>648.372829</td>\n",
       "      <td>39.111338</td>\n",
       "      <td>5.084780</td>\n",
       "      <td>78174.555312</td>\n",
       "      <td>1.518897</td>\n",
       "      <td>99072.619871</td>\n",
       "    </tr>\n",
       "    <tr>\n",
       "      <th>std</th>\n",
       "      <td>7.223189e+04</td>\n",
       "      <td>97.922578</td>\n",
       "      <td>10.290507</td>\n",
       "      <td>2.929639</td>\n",
       "      <td>62847.279285</td>\n",
       "      <td>0.572370</td>\n",
       "      <td>57220.874890</td>\n",
       "    </tr>\n",
       "    <tr>\n",
       "      <th>min</th>\n",
       "      <td>1.556609e+07</td>\n",
       "      <td>376.000000</td>\n",
       "      <td>18.000000</td>\n",
       "      <td>0.000000</td>\n",
       "      <td>0.000000</td>\n",
       "      <td>1.000000</td>\n",
       "      <td>371.050000</td>\n",
       "    </tr>\n",
       "    <tr>\n",
       "      <th>25%</th>\n",
       "      <td>1.563019e+07</td>\n",
       "      <td>579.500000</td>\n",
       "      <td>32.000000</td>\n",
       "      <td>2.000000</td>\n",
       "      <td>0.000000</td>\n",
       "      <td>1.000000</td>\n",
       "      <td>50090.645000</td>\n",
       "    </tr>\n",
       "    <tr>\n",
       "      <th>50%</th>\n",
       "      <td>1.569275e+07</td>\n",
       "      <td>653.000000</td>\n",
       "      <td>37.000000</td>\n",
       "      <td>5.000000</td>\n",
       "      <td>99027.610000</td>\n",
       "      <td>1.000000</td>\n",
       "      <td>98820.390000</td>\n",
       "    </tr>\n",
       "    <tr>\n",
       "      <th>75%</th>\n",
       "      <td>1.575396e+07</td>\n",
       "      <td>721.000000</td>\n",
       "      <td>44.000000</td>\n",
       "      <td>8.000000</td>\n",
       "      <td>129500.955000</td>\n",
       "      <td>2.000000</td>\n",
       "      <td>146856.220000</td>\n",
       "    </tr>\n",
       "    <tr>\n",
       "      <th>max</th>\n",
       "      <td>1.581536e+07</td>\n",
       "      <td>850.000000</td>\n",
       "      <td>82.000000</td>\n",
       "      <td>10.000000</td>\n",
       "      <td>213146.200000</td>\n",
       "      <td>4.000000</td>\n",
       "      <td>199725.390000</td>\n",
       "    </tr>\n",
       "  </tbody>\n",
       "</table>\n",
       "</div>"
      ],
      "text/plain": [
       "        Customer_ID  Credit Score         Age      Tenure        Balance  \\\n",
       "count  9.790000e+02    979.000000  979.000000  979.000000     979.000000   \n",
       "mean   1.569225e+07    648.372829   39.111338    5.084780   78174.555312   \n",
       "std    7.223189e+04     97.922578   10.290507    2.929639   62847.279285   \n",
       "min    1.556609e+07    376.000000   18.000000    0.000000       0.000000   \n",
       "25%    1.563019e+07    579.500000   32.000000    2.000000       0.000000   \n",
       "50%    1.569275e+07    653.000000   37.000000    5.000000   99027.610000   \n",
       "75%    1.575396e+07    721.000000   44.000000    8.000000  129500.955000   \n",
       "max    1.581536e+07    850.000000   82.000000   10.000000  213146.200000   \n",
       "\n",
       "       NumOfProducts  Estimated Salary  \n",
       "count     979.000000        979.000000  \n",
       "mean        1.518897      99072.619871  \n",
       "std         0.572370      57220.874890  \n",
       "min         1.000000        371.050000  \n",
       "25%         1.000000      50090.645000  \n",
       "50%         1.000000      98820.390000  \n",
       "75%         2.000000     146856.220000  \n",
       "max         4.000000     199725.390000  "
      ]
     },
     "execution_count": 42,
     "metadata": {},
     "output_type": "execute_result"
    }
   ],
   "source": [
    "bank.describe()"
   ]
  },
  {
   "cell_type": "code",
   "execution_count": 43,
   "id": "ce61c281-b954-41bd-a9f7-45d8dc5a9dd1",
   "metadata": {},
   "outputs": [
    {
     "data": {
      "text/plain": [
       "0    850\n",
       "Name: Credit Score, dtype: int64"
      ]
     },
     "execution_count": 43,
     "metadata": {},
     "output_type": "execute_result"
    }
   ],
   "source": [
    "bank['Credit Score'].mode()"
   ]
  },
  {
   "cell_type": "code",
   "execution_count": 44,
   "id": "0e06edea-58b1-4077-9ba7-8b447f43729e",
   "metadata": {},
   "outputs": [
    {
     "data": {
      "text/plain": [
       "0    France\n",
       "Name: Country, dtype: object"
      ]
     },
     "execution_count": 44,
     "metadata": {},
     "output_type": "execute_result"
    }
   ],
   "source": [
    "bank['Country'].mode()"
   ]
  },
  {
   "cell_type": "code",
   "execution_count": 45,
   "id": "84462834-4601-4400-bb96-56d3d8e6f846",
   "metadata": {},
   "outputs": [
    {
     "data": {
      "text/plain": [
       "0    Male\n",
       "Name: Gender, dtype: object"
      ]
     },
     "execution_count": 45,
     "metadata": {},
     "output_type": "execute_result"
    }
   ],
   "source": [
    "bank['Gender'].mode()"
   ]
  },
  {
   "cell_type": "code",
   "execution_count": 46,
   "id": "391598a1-6194-4bce-9aa7-d53c0a26c629",
   "metadata": {},
   "outputs": [
    {
     "data": {
      "text/plain": [
       "0    36\n",
       "Name: Age, dtype: int64"
      ]
     },
     "execution_count": 46,
     "metadata": {},
     "output_type": "execute_result"
    }
   ],
   "source": [
    "bank['Age'].mode()"
   ]
  },
  {
   "cell_type": "code",
   "execution_count": 47,
   "id": "eabf48b2-d786-4139-9d96-1598f5ad6ba0",
   "metadata": {},
   "outputs": [
    {
     "data": {
      "text/plain": [
       "0    2\n",
       "1    8\n",
       "2    9\n",
       "Name: Tenure, dtype: int64"
      ]
     },
     "execution_count": 47,
     "metadata": {},
     "output_type": "execute_result"
    }
   ],
   "source": [
    "bank['Tenure'].mode()"
   ]
  },
  {
   "cell_type": "code",
   "execution_count": 48,
   "id": "b42ca5a2-97ad-456b-8f44-565e50dc5067",
   "metadata": {},
   "outputs": [
    {
     "data": {
      "text/plain": [
       "0    0.0\n",
       "Name: Balance, dtype: float64"
      ]
     },
     "execution_count": 48,
     "metadata": {},
     "output_type": "execute_result"
    }
   ],
   "source": [
    "bank['Balance'].mode()"
   ]
  },
  {
   "cell_type": "code",
   "execution_count": 49,
   "id": "bdd3b187-09d5-47b6-9d6e-ece0eb03d6c7",
   "metadata": {},
   "outputs": [
    {
     "data": {
      "text/plain": [
       "0    1\n",
       "Name: NumOfProducts, dtype: int64"
      ]
     },
     "execution_count": 49,
     "metadata": {},
     "output_type": "execute_result"
    }
   ],
   "source": [
    "bank['NumOfProducts'].mode()"
   ]
  },
  {
   "cell_type": "code",
   "execution_count": 50,
   "id": "7aee1bb5-70d6-44d2-8c6d-c0708b682273",
   "metadata": {},
   "outputs": [
    {
     "data": {
      "text/plain": [
       "0    True\n",
       "Name: HasCrCard?, dtype: bool"
      ]
     },
     "execution_count": 50,
     "metadata": {},
     "output_type": "execute_result"
    }
   ],
   "source": [
    "bank['HasCrCard?'].mode()"
   ]
  },
  {
   "cell_type": "code",
   "execution_count": 51,
   "id": "631cd2c5-0828-4d69-930e-c4e875c2c7c7",
   "metadata": {},
   "outputs": [
    {
     "data": {
      "text/plain": [
       "0    True\n",
       "Name: IsActiveMember, dtype: bool"
      ]
     },
     "execution_count": 51,
     "metadata": {},
     "output_type": "execute_result"
    }
   ],
   "source": [
    "bank['IsActiveMember'].mode()"
   ]
  },
  {
   "cell_type": "code",
   "execution_count": 52,
   "id": "14b1e595-8901-4ef6-89a2-721dc28f17f8",
   "metadata": {},
   "outputs": [
    {
     "data": {
      "text/plain": [
       "0    98596.996994\n",
       "Name: Estimated Salary, dtype: float64"
      ]
     },
     "execution_count": 52,
     "metadata": {},
     "output_type": "execute_result"
    }
   ],
   "source": [
    "bank['Estimated Salary'].mode()"
   ]
  },
  {
   "cell_type": "code",
   "execution_count": 53,
   "id": "f61b27ca-1711-4156-b514-772794582477",
   "metadata": {},
   "outputs": [
    {
     "data": {
      "text/plain": [
       "(979, 13)"
      ]
     },
     "execution_count": 53,
     "metadata": {},
     "output_type": "execute_result"
    }
   ],
   "source": [
    "bank.shape"
   ]
  },
  {
   "cell_type": "markdown",
   "id": "72adf318-1436-4fd3-88d0-3a0aec4e4810",
   "metadata": {},
   "source": [
    "## 5. Export data"
   ]
  },
  {
   "cell_type": "code",
   "execution_count": 55,
   "id": "35efe8a7-bedc-4a37-b1b2-4cc6f8f4415d",
   "metadata": {},
   "outputs": [],
   "source": [
    "# Export data\n",
    "\n",
    "bank.to_csv(os.path.join(path, '02 Data', 'Prepared Data', 'PigEBank_cleaned_all.csv'), index=False)\n",
    "current_clients.to_csv(os.path.join(path, '02 Data', 'Prepared Data', 'PigEBank_cleaned_current.csv'), index=False)\n",
    "former_clients.to_csv(os.path.join(path, '02 Data', 'Prepared Data', 'PigEBank_cleaned_former.csv'), index=False)"
   ]
  },
  {
   "cell_type": "code",
   "execution_count": null,
   "id": "8755f521-b556-4523-94e8-a4829557d659",
   "metadata": {},
   "outputs": [],
   "source": []
  }
 ],
 "metadata": {
  "kernelspec": {
   "display_name": "Python 3 (ipykernel)",
   "language": "python",
   "name": "python3"
  },
  "language_info": {
   "codemirror_mode": {
    "name": "ipython",
    "version": 3
   },
   "file_extension": ".py",
   "mimetype": "text/x-python",
   "name": "python",
   "nbconvert_exporter": "python",
   "pygments_lexer": "ipython3",
   "version": "3.12.4"
  }
 },
 "nbformat": 4,
 "nbformat_minor": 5
}
